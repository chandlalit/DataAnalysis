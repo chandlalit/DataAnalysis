{
  "cells": [
    {
      "cell_type": "markdown",
      "source": [
        "## US_Accident_Analysis(2016-2021)"
      ],
      "metadata": {
        "id": "wDLLByBn6jEB"
      }
    },
    {
      "cell_type": "code",
      "execution_count": null,
      "metadata": {
        "colab": {
          "base_uri": "https://localhost:8080/"
        },
        "id": "txpmDIlPA5xG",
        "outputId": "924a83ca-4528-400f-ddc5-8f065ac71ddc"
      },
      "outputs": [
        {
          "output_type": "stream",
          "name": "stdout",
          "text": [
            "\u001b[?25l\r\u001b[K     |████▊                           | 10 kB 24.4 MB/s eta 0:00:01\r\u001b[K     |█████████▌                      | 20 kB 6.2 MB/s eta 0:00:01\r\u001b[K     |██████████████▎                 | 30 kB 8.6 MB/s eta 0:00:01\r\u001b[K     |███████████████████             | 40 kB 3.6 MB/s eta 0:00:01\r\u001b[K     |███████████████████████▉        | 51 kB 3.6 MB/s eta 0:00:01\r\u001b[K     |████████████████████████████▋   | 61 kB 4.3 MB/s eta 0:00:01\r\u001b[K     |████████████████████████████████| 68 kB 2.7 MB/s \n",
            "\u001b[?25h  Building wheel for uuid (setup.py) ... \u001b[?25l\u001b[?25hdone\n"
          ]
        }
      ],
      "source": [
        "# Jovian Commit Essentials\n",
        "# Please retain and execute this cell without modifying the contents for `jovian.commit` to work\n",
        "!pip install jovian --upgrade -q\n",
        "import jovian\n",
        "jovian.set_project('us-accidents-analysis')\n",
        "jovian.set_colab_id('12tdQJt6TOaco8gxZLiA9zUZFgVcdNmNc')"
      ]
    },
    {
      "cell_type": "code",
      "execution_count": null,
      "metadata": {
        "id": "9OrUrfdlA5xL"
      },
      "outputs": [],
      "source": [
        "import jovian"
      ]
    },
    {
      "cell_type": "code",
      "execution_count": null,
      "metadata": {
        "id": "Hidim8exA5xK"
      },
      "outputs": [],
      "source": [
        "!pip install jovian --upgrade --quiet"
      ]
    },
    {
      "cell_type": "code",
      "source": [
        "pip install opendatasets --upgrade --quiet"
      ],
      "metadata": {
        "id": "_GF6GARuBedR"
      },
      "execution_count": null,
      "outputs": []
    },
    {
      "cell_type": "code",
      "execution_count": null,
      "metadata": {
        "id": "SHz-8CvlA5xL"
      },
      "outputs": [],
      "source": [
        "# Execute this to save new versions of the notebook\n",
        "jovian.commit(project=\"us-accidents-analysis\")"
      ]
    },
    {
      "cell_type": "markdown",
      "source": [
        "# US accidents Exploratory Data Analysis\n",
        "\n",
        "- Data description\n",
        "- Dataset details ( Source, contents and its' use)\n",
        "  - Kaggle\n",
        "  - Information about accidents\n",
        "  - Useful to prevent accidents"
      ],
      "metadata": {
        "id": "KpyEeRzHBRtH"
      }
    },
    {
      "cell_type": "markdown",
      "source": [
        "## Downloading the Data\n"
      ],
      "metadata": {
        "id": "mIXdp7dkBkmB"
      }
    },
    {
      "cell_type": "code",
      "source": [
        "import opendatasets as od\n",
        "\n",
        "download_url = 'https://www.kaggle.com/datasets/sobhanmoosavi/us-accidents'\n",
        "od.download(download_url)"
      ],
      "metadata": {
        "colab": {
          "base_uri": "https://localhost:8080/"
        },
        "id": "gu6_pkdSBem4",
        "outputId": "ab311e22-7532-451f-9854-9bbe2ed54dc2"
      },
      "execution_count": null,
      "outputs": [
        {
          "output_type": "stream",
          "name": "stdout",
          "text": [
            "Please provide your Kaggle credentials to download this dataset. Learn more: http://bit.ly/kaggle-creds\n",
            "Your Kaggle username: lalitchand\n",
            "Your Kaggle Key: ··········\n",
            "Downloading us-accidents.zip to ./us-accidents\n"
          ]
        },
        {
          "output_type": "stream",
          "name": "stderr",
          "text": [
            "100%|██████████| 269M/269M [00:01<00:00, 250MB/s]\n"
          ]
        },
        {
          "output_type": "stream",
          "name": "stdout",
          "text": [
            "\n"
          ]
        }
      ]
    },
    {
      "cell_type": "code",
      "source": [
        "data_filename = './us-accidents/US_Accidents_Dec21_updated.csv'"
      ],
      "metadata": {
        "id": "0_wkrhn3BsgM"
      },
      "execution_count": null,
      "outputs": []
    },
    {
      "cell_type": "markdown",
      "source": [
        "## Data preparation and Cleaning\n",
        "\n",
        "- Load the file using pandas\n",
        "- Look file information about rows and columns\n",
        "- fix any incorrect and missing values"
      ],
      "metadata": {
        "id": "TGTGc282Bud_"
      }
    },
    {
      "cell_type": "code",
      "source": [
        "import pandas as pd\n"
      ],
      "metadata": {
        "id": "WmMAMmbIBswX"
      },
      "execution_count": null,
      "outputs": []
    },
    {
      "cell_type": "code",
      "source": [
        "df = pd.read_csv(data_filename)"
      ],
      "metadata": {
        "id": "iWPowqzECDji"
      },
      "execution_count": null,
      "outputs": []
    },
    {
      "cell_type": "code",
      "source": [
        "df"
      ],
      "metadata": {
        "colab": {
          "base_uri": "https://localhost:8080/",
          "height": 939
        },
        "id": "Hpf-HdmcCDnA",
        "outputId": "cc8a6a13-03b1-4492-89e5-5c0d45a7143f"
      },
      "execution_count": null,
      "outputs": [
        {
          "output_type": "execute_result",
          "data": {
            "text/plain": [
              "                ID  Severity           Start_Time             End_Time  \\\n",
              "0              A-1         3  2016-02-08 00:37:08  2016-02-08 06:37:08   \n",
              "1              A-2         2  2016-02-08 05:56:20  2016-02-08 11:56:20   \n",
              "2              A-3         2  2016-02-08 06:15:39  2016-02-08 12:15:39   \n",
              "3              A-4         2  2016-02-08 06:51:45  2016-02-08 12:51:45   \n",
              "4              A-5         3  2016-02-08 07:53:43  2016-02-08 13:53:43   \n",
              "...            ...       ...                  ...                  ...   \n",
              "2845337  A-2845338         2  2019-08-23 18:03:25  2019-08-23 18:32:01   \n",
              "2845338  A-2845339         2  2019-08-23 19:11:30  2019-08-23 19:38:23   \n",
              "2845339  A-2845340         2  2019-08-23 19:00:21  2019-08-23 19:28:49   \n",
              "2845340  A-2845341         2  2019-08-23 19:00:21  2019-08-23 19:29:42   \n",
              "2845341  A-2845342         2  2019-08-23 18:52:06  2019-08-23 19:21:31   \n",
              "\n",
              "         Start_Lat   Start_Lng    End_Lat     End_Lng  Distance(mi)  \\\n",
              "0        40.108910  -83.092860  40.112060  -83.031870         3.230   \n",
              "1        39.865420  -84.062800  39.865010  -84.048730         0.747   \n",
              "2        39.102660  -84.524680  39.102090  -84.523960         0.055   \n",
              "3        41.062130  -81.537840  41.062170  -81.535470         0.123   \n",
              "4        39.172393  -84.492792  39.170476  -84.501798         0.500   \n",
              "...            ...         ...        ...         ...           ...   \n",
              "2845337  34.002480 -117.379360  33.998880 -117.370940         0.543   \n",
              "2845338  32.766960 -117.148060  32.765550 -117.153630         0.338   \n",
              "2845339  33.775450 -117.847790  33.777400 -117.857270         0.561   \n",
              "2845340  33.992460 -118.403020  33.983110 -118.395650         0.772   \n",
              "2845341  34.133930 -117.230920  34.137360 -117.239340         0.537   \n",
              "\n",
              "                                               Description  ...  Roundabout  \\\n",
              "0        Between Sawmill Rd/Exit 20 and OH-315/Olentang...  ...       False   \n",
              "1                       At OH-4/OH-235/Exit 41 - Accident.  ...       False   \n",
              "2                         At I-71/US-50/Exit 1 - Accident.  ...       False   \n",
              "3                          At Dart Ave/Exit 21 - Accident.  ...       False   \n",
              "4                       At Mitchell Ave/Exit 6 - Accident.  ...       False   \n",
              "...                                                    ...  ...         ...   \n",
              "2845337                           At Market St - Accident.  ...       False   \n",
              "2845338    At Camino Del Rio/Mission Center Rd - Accident.  ...       False   \n",
              "2845339  At Glassell St/Grand Ave - Accident. in the ri...  ...       False   \n",
              "2845340     At CA-90/Marina Fwy/Jefferson Blvd - Accident.  ...       False   \n",
              "2845341              At Highland Ave/Arden Ave - Accident.  ...       False   \n",
              "\n",
              "        Station   Stop Traffic_Calming Traffic_Signal Turning_Loop  \\\n",
              "0         False  False           False          False        False   \n",
              "1         False  False           False          False        False   \n",
              "2         False  False           False          False        False   \n",
              "3         False  False           False          False        False   \n",
              "4         False  False           False          False        False   \n",
              "...         ...    ...             ...            ...          ...   \n",
              "2845337   False  False           False          False        False   \n",
              "2845338   False  False           False          False        False   \n",
              "2845339   False  False           False          False        False   \n",
              "2845340   False  False           False          False        False   \n",
              "2845341   False  False           False          False        False   \n",
              "\n",
              "        Sunrise_Sunset Civil_Twilight Nautical_Twilight Astronomical_Twilight  \n",
              "0                Night          Night             Night                 Night  \n",
              "1                Night          Night             Night                 Night  \n",
              "2                Night          Night             Night                   Day  \n",
              "3                Night          Night               Day                   Day  \n",
              "4                  Day            Day               Day                   Day  \n",
              "...                ...            ...               ...                   ...  \n",
              "2845337            Day            Day               Day                   Day  \n",
              "2845338            Day            Day               Day                   Day  \n",
              "2845339            Day            Day               Day                   Day  \n",
              "2845340            Day            Day               Day                   Day  \n",
              "2845341            Day            Day               Day                   Day  \n",
              "\n",
              "[2845342 rows x 47 columns]"
            ],
            "text/html": [
              "\n",
              "  <div id=\"df-6a9610d9-2526-4f83-84de-713da933fbb6\">\n",
              "    <div class=\"colab-df-container\">\n",
              "      <div>\n",
              "<style scoped>\n",
              "    .dataframe tbody tr th:only-of-type {\n",
              "        vertical-align: middle;\n",
              "    }\n",
              "\n",
              "    .dataframe tbody tr th {\n",
              "        vertical-align: top;\n",
              "    }\n",
              "\n",
              "    .dataframe thead th {\n",
              "        text-align: right;\n",
              "    }\n",
              "</style>\n",
              "<table border=\"1\" class=\"dataframe\">\n",
              "  <thead>\n",
              "    <tr style=\"text-align: right;\">\n",
              "      <th></th>\n",
              "      <th>ID</th>\n",
              "      <th>Severity</th>\n",
              "      <th>Start_Time</th>\n",
              "      <th>End_Time</th>\n",
              "      <th>Start_Lat</th>\n",
              "      <th>Start_Lng</th>\n",
              "      <th>End_Lat</th>\n",
              "      <th>End_Lng</th>\n",
              "      <th>Distance(mi)</th>\n",
              "      <th>Description</th>\n",
              "      <th>...</th>\n",
              "      <th>Roundabout</th>\n",
              "      <th>Station</th>\n",
              "      <th>Stop</th>\n",
              "      <th>Traffic_Calming</th>\n",
              "      <th>Traffic_Signal</th>\n",
              "      <th>Turning_Loop</th>\n",
              "      <th>Sunrise_Sunset</th>\n",
              "      <th>Civil_Twilight</th>\n",
              "      <th>Nautical_Twilight</th>\n",
              "      <th>Astronomical_Twilight</th>\n",
              "    </tr>\n",
              "  </thead>\n",
              "  <tbody>\n",
              "    <tr>\n",
              "      <th>0</th>\n",
              "      <td>A-1</td>\n",
              "      <td>3</td>\n",
              "      <td>2016-02-08 00:37:08</td>\n",
              "      <td>2016-02-08 06:37:08</td>\n",
              "      <td>40.108910</td>\n",
              "      <td>-83.092860</td>\n",
              "      <td>40.112060</td>\n",
              "      <td>-83.031870</td>\n",
              "      <td>3.230</td>\n",
              "      <td>Between Sawmill Rd/Exit 20 and OH-315/Olentang...</td>\n",
              "      <td>...</td>\n",
              "      <td>False</td>\n",
              "      <td>False</td>\n",
              "      <td>False</td>\n",
              "      <td>False</td>\n",
              "      <td>False</td>\n",
              "      <td>False</td>\n",
              "      <td>Night</td>\n",
              "      <td>Night</td>\n",
              "      <td>Night</td>\n",
              "      <td>Night</td>\n",
              "    </tr>\n",
              "    <tr>\n",
              "      <th>1</th>\n",
              "      <td>A-2</td>\n",
              "      <td>2</td>\n",
              "      <td>2016-02-08 05:56:20</td>\n",
              "      <td>2016-02-08 11:56:20</td>\n",
              "      <td>39.865420</td>\n",
              "      <td>-84.062800</td>\n",
              "      <td>39.865010</td>\n",
              "      <td>-84.048730</td>\n",
              "      <td>0.747</td>\n",
              "      <td>At OH-4/OH-235/Exit 41 - Accident.</td>\n",
              "      <td>...</td>\n",
              "      <td>False</td>\n",
              "      <td>False</td>\n",
              "      <td>False</td>\n",
              "      <td>False</td>\n",
              "      <td>False</td>\n",
              "      <td>False</td>\n",
              "      <td>Night</td>\n",
              "      <td>Night</td>\n",
              "      <td>Night</td>\n",
              "      <td>Night</td>\n",
              "    </tr>\n",
              "    <tr>\n",
              "      <th>2</th>\n",
              "      <td>A-3</td>\n",
              "      <td>2</td>\n",
              "      <td>2016-02-08 06:15:39</td>\n",
              "      <td>2016-02-08 12:15:39</td>\n",
              "      <td>39.102660</td>\n",
              "      <td>-84.524680</td>\n",
              "      <td>39.102090</td>\n",
              "      <td>-84.523960</td>\n",
              "      <td>0.055</td>\n",
              "      <td>At I-71/US-50/Exit 1 - Accident.</td>\n",
              "      <td>...</td>\n",
              "      <td>False</td>\n",
              "      <td>False</td>\n",
              "      <td>False</td>\n",
              "      <td>False</td>\n",
              "      <td>False</td>\n",
              "      <td>False</td>\n",
              "      <td>Night</td>\n",
              "      <td>Night</td>\n",
              "      <td>Night</td>\n",
              "      <td>Day</td>\n",
              "    </tr>\n",
              "    <tr>\n",
              "      <th>3</th>\n",
              "      <td>A-4</td>\n",
              "      <td>2</td>\n",
              "      <td>2016-02-08 06:51:45</td>\n",
              "      <td>2016-02-08 12:51:45</td>\n",
              "      <td>41.062130</td>\n",
              "      <td>-81.537840</td>\n",
              "      <td>41.062170</td>\n",
              "      <td>-81.535470</td>\n",
              "      <td>0.123</td>\n",
              "      <td>At Dart Ave/Exit 21 - Accident.</td>\n",
              "      <td>...</td>\n",
              "      <td>False</td>\n",
              "      <td>False</td>\n",
              "      <td>False</td>\n",
              "      <td>False</td>\n",
              "      <td>False</td>\n",
              "      <td>False</td>\n",
              "      <td>Night</td>\n",
              "      <td>Night</td>\n",
              "      <td>Day</td>\n",
              "      <td>Day</td>\n",
              "    </tr>\n",
              "    <tr>\n",
              "      <th>4</th>\n",
              "      <td>A-5</td>\n",
              "      <td>3</td>\n",
              "      <td>2016-02-08 07:53:43</td>\n",
              "      <td>2016-02-08 13:53:43</td>\n",
              "      <td>39.172393</td>\n",
              "      <td>-84.492792</td>\n",
              "      <td>39.170476</td>\n",
              "      <td>-84.501798</td>\n",
              "      <td>0.500</td>\n",
              "      <td>At Mitchell Ave/Exit 6 - Accident.</td>\n",
              "      <td>...</td>\n",
              "      <td>False</td>\n",
              "      <td>False</td>\n",
              "      <td>False</td>\n",
              "      <td>False</td>\n",
              "      <td>False</td>\n",
              "      <td>False</td>\n",
              "      <td>Day</td>\n",
              "      <td>Day</td>\n",
              "      <td>Day</td>\n",
              "      <td>Day</td>\n",
              "    </tr>\n",
              "    <tr>\n",
              "      <th>...</th>\n",
              "      <td>...</td>\n",
              "      <td>...</td>\n",
              "      <td>...</td>\n",
              "      <td>...</td>\n",
              "      <td>...</td>\n",
              "      <td>...</td>\n",
              "      <td>...</td>\n",
              "      <td>...</td>\n",
              "      <td>...</td>\n",
              "      <td>...</td>\n",
              "      <td>...</td>\n",
              "      <td>...</td>\n",
              "      <td>...</td>\n",
              "      <td>...</td>\n",
              "      <td>...</td>\n",
              "      <td>...</td>\n",
              "      <td>...</td>\n",
              "      <td>...</td>\n",
              "      <td>...</td>\n",
              "      <td>...</td>\n",
              "      <td>...</td>\n",
              "    </tr>\n",
              "    <tr>\n",
              "      <th>2845337</th>\n",
              "      <td>A-2845338</td>\n",
              "      <td>2</td>\n",
              "      <td>2019-08-23 18:03:25</td>\n",
              "      <td>2019-08-23 18:32:01</td>\n",
              "      <td>34.002480</td>\n",
              "      <td>-117.379360</td>\n",
              "      <td>33.998880</td>\n",
              "      <td>-117.370940</td>\n",
              "      <td>0.543</td>\n",
              "      <td>At Market St - Accident.</td>\n",
              "      <td>...</td>\n",
              "      <td>False</td>\n",
              "      <td>False</td>\n",
              "      <td>False</td>\n",
              "      <td>False</td>\n",
              "      <td>False</td>\n",
              "      <td>False</td>\n",
              "      <td>Day</td>\n",
              "      <td>Day</td>\n",
              "      <td>Day</td>\n",
              "      <td>Day</td>\n",
              "    </tr>\n",
              "    <tr>\n",
              "      <th>2845338</th>\n",
              "      <td>A-2845339</td>\n",
              "      <td>2</td>\n",
              "      <td>2019-08-23 19:11:30</td>\n",
              "      <td>2019-08-23 19:38:23</td>\n",
              "      <td>32.766960</td>\n",
              "      <td>-117.148060</td>\n",
              "      <td>32.765550</td>\n",
              "      <td>-117.153630</td>\n",
              "      <td>0.338</td>\n",
              "      <td>At Camino Del Rio/Mission Center Rd - Accident.</td>\n",
              "      <td>...</td>\n",
              "      <td>False</td>\n",
              "      <td>False</td>\n",
              "      <td>False</td>\n",
              "      <td>False</td>\n",
              "      <td>False</td>\n",
              "      <td>False</td>\n",
              "      <td>Day</td>\n",
              "      <td>Day</td>\n",
              "      <td>Day</td>\n",
              "      <td>Day</td>\n",
              "    </tr>\n",
              "    <tr>\n",
              "      <th>2845339</th>\n",
              "      <td>A-2845340</td>\n",
              "      <td>2</td>\n",
              "      <td>2019-08-23 19:00:21</td>\n",
              "      <td>2019-08-23 19:28:49</td>\n",
              "      <td>33.775450</td>\n",
              "      <td>-117.847790</td>\n",
              "      <td>33.777400</td>\n",
              "      <td>-117.857270</td>\n",
              "      <td>0.561</td>\n",
              "      <td>At Glassell St/Grand Ave - Accident. in the ri...</td>\n",
              "      <td>...</td>\n",
              "      <td>False</td>\n",
              "      <td>False</td>\n",
              "      <td>False</td>\n",
              "      <td>False</td>\n",
              "      <td>False</td>\n",
              "      <td>False</td>\n",
              "      <td>Day</td>\n",
              "      <td>Day</td>\n",
              "      <td>Day</td>\n",
              "      <td>Day</td>\n",
              "    </tr>\n",
              "    <tr>\n",
              "      <th>2845340</th>\n",
              "      <td>A-2845341</td>\n",
              "      <td>2</td>\n",
              "      <td>2019-08-23 19:00:21</td>\n",
              "      <td>2019-08-23 19:29:42</td>\n",
              "      <td>33.992460</td>\n",
              "      <td>-118.403020</td>\n",
              "      <td>33.983110</td>\n",
              "      <td>-118.395650</td>\n",
              "      <td>0.772</td>\n",
              "      <td>At CA-90/Marina Fwy/Jefferson Blvd - Accident.</td>\n",
              "      <td>...</td>\n",
              "      <td>False</td>\n",
              "      <td>False</td>\n",
              "      <td>False</td>\n",
              "      <td>False</td>\n",
              "      <td>False</td>\n",
              "      <td>False</td>\n",
              "      <td>Day</td>\n",
              "      <td>Day</td>\n",
              "      <td>Day</td>\n",
              "      <td>Day</td>\n",
              "    </tr>\n",
              "    <tr>\n",
              "      <th>2845341</th>\n",
              "      <td>A-2845342</td>\n",
              "      <td>2</td>\n",
              "      <td>2019-08-23 18:52:06</td>\n",
              "      <td>2019-08-23 19:21:31</td>\n",
              "      <td>34.133930</td>\n",
              "      <td>-117.230920</td>\n",
              "      <td>34.137360</td>\n",
              "      <td>-117.239340</td>\n",
              "      <td>0.537</td>\n",
              "      <td>At Highland Ave/Arden Ave - Accident.</td>\n",
              "      <td>...</td>\n",
              "      <td>False</td>\n",
              "      <td>False</td>\n",
              "      <td>False</td>\n",
              "      <td>False</td>\n",
              "      <td>False</td>\n",
              "      <td>False</td>\n",
              "      <td>Day</td>\n",
              "      <td>Day</td>\n",
              "      <td>Day</td>\n",
              "      <td>Day</td>\n",
              "    </tr>\n",
              "  </tbody>\n",
              "</table>\n",
              "<p>2845342 rows × 47 columns</p>\n",
              "</div>\n",
              "      <button class=\"colab-df-convert\" onclick=\"convertToInteractive('df-6a9610d9-2526-4f83-84de-713da933fbb6')\"\n",
              "              title=\"Convert this dataframe to an interactive table.\"\n",
              "              style=\"display:none;\">\n",
              "        \n",
              "  <svg xmlns=\"http://www.w3.org/2000/svg\" height=\"24px\"viewBox=\"0 0 24 24\"\n",
              "       width=\"24px\">\n",
              "    <path d=\"M0 0h24v24H0V0z\" fill=\"none\"/>\n",
              "    <path d=\"M18.56 5.44l.94 2.06.94-2.06 2.06-.94-2.06-.94-.94-2.06-.94 2.06-2.06.94zm-11 1L8.5 8.5l.94-2.06 2.06-.94-2.06-.94L8.5 2.5l-.94 2.06-2.06.94zm10 10l.94 2.06.94-2.06 2.06-.94-2.06-.94-.94-2.06-.94 2.06-2.06.94z\"/><path d=\"M17.41 7.96l-1.37-1.37c-.4-.4-.92-.59-1.43-.59-.52 0-1.04.2-1.43.59L10.3 9.45l-7.72 7.72c-.78.78-.78 2.05 0 2.83L4 21.41c.39.39.9.59 1.41.59.51 0 1.02-.2 1.41-.59l7.78-7.78 2.81-2.81c.8-.78.8-2.07 0-2.86zM5.41 20L4 18.59l7.72-7.72 1.47 1.35L5.41 20z\"/>\n",
              "  </svg>\n",
              "      </button>\n",
              "      \n",
              "  <style>\n",
              "    .colab-df-container {\n",
              "      display:flex;\n",
              "      flex-wrap:wrap;\n",
              "      gap: 12px;\n",
              "    }\n",
              "\n",
              "    .colab-df-convert {\n",
              "      background-color: #E8F0FE;\n",
              "      border: none;\n",
              "      border-radius: 50%;\n",
              "      cursor: pointer;\n",
              "      display: none;\n",
              "      fill: #1967D2;\n",
              "      height: 32px;\n",
              "      padding: 0 0 0 0;\n",
              "      width: 32px;\n",
              "    }\n",
              "\n",
              "    .colab-df-convert:hover {\n",
              "      background-color: #E2EBFA;\n",
              "      box-shadow: 0px 1px 2px rgba(60, 64, 67, 0.3), 0px 1px 3px 1px rgba(60, 64, 67, 0.15);\n",
              "      fill: #174EA6;\n",
              "    }\n",
              "\n",
              "    [theme=dark] .colab-df-convert {\n",
              "      background-color: #3B4455;\n",
              "      fill: #D2E3FC;\n",
              "    }\n",
              "\n",
              "    [theme=dark] .colab-df-convert:hover {\n",
              "      background-color: #434B5C;\n",
              "      box-shadow: 0px 1px 3px 1px rgba(0, 0, 0, 0.15);\n",
              "      filter: drop-shadow(0px 1px 2px rgba(0, 0, 0, 0.3));\n",
              "      fill: #FFFFFF;\n",
              "    }\n",
              "  </style>\n",
              "\n",
              "      <script>\n",
              "        const buttonEl =\n",
              "          document.querySelector('#df-6a9610d9-2526-4f83-84de-713da933fbb6 button.colab-df-convert');\n",
              "        buttonEl.style.display =\n",
              "          google.colab.kernel.accessAllowed ? 'block' : 'none';\n",
              "\n",
              "        async function convertToInteractive(key) {\n",
              "          const element = document.querySelector('#df-6a9610d9-2526-4f83-84de-713da933fbb6');\n",
              "          const dataTable =\n",
              "            await google.colab.kernel.invokeFunction('convertToInteractive',\n",
              "                                                     [key], {});\n",
              "          if (!dataTable) return;\n",
              "\n",
              "          const docLinkHtml = 'Like what you see? Visit the ' +\n",
              "            '<a target=\"_blank\" href=https://colab.research.google.com/notebooks/data_table.ipynb>data table notebook</a>'\n",
              "            + ' to learn more about interactive tables.';\n",
              "          element.innerHTML = '';\n",
              "          dataTable['output_type'] = 'display_data';\n",
              "          await google.colab.output.renderOutput(dataTable, element);\n",
              "          const docLink = document.createElement('div');\n",
              "          docLink.innerHTML = docLinkHtml;\n",
              "          element.appendChild(docLink);\n",
              "        }\n",
              "      </script>\n",
              "    </div>\n",
              "  </div>\n",
              "  "
            ]
          },
          "metadata": {},
          "execution_count": 7
        }
      ]
    },
    {
      "cell_type": "code",
      "source": [
        "df.columns"
      ],
      "metadata": {
        "colab": {
          "base_uri": "https://localhost:8080/"
        },
        "id": "FDxsxqWnFQaD",
        "outputId": "69cc7637-c355-4bb6-f47d-bc8df8bcc1f1"
      },
      "execution_count": null,
      "outputs": [
        {
          "output_type": "execute_result",
          "data": {
            "text/plain": [
              "Index(['ID', 'Severity', 'Start_Time', 'End_Time', 'Start_Lat', 'Start_Lng',\n",
              "       'End_Lat', 'End_Lng', 'Distance(mi)', 'Description', 'Number', 'Street',\n",
              "       'Side', 'City', 'County', 'State', 'Zipcode', 'Country', 'Timezone',\n",
              "       'Airport_Code', 'Weather_Timestamp', 'Temperature(F)', 'Wind_Chill(F)',\n",
              "       'Humidity(%)', 'Pressure(in)', 'Visibility(mi)', 'Wind_Direction',\n",
              "       'Wind_Speed(mph)', 'Precipitation(in)', 'Weather_Condition', 'Amenity',\n",
              "       'Bump', 'Crossing', 'Give_Way', 'Junction', 'No_Exit', 'Railway',\n",
              "       'Roundabout', 'Station', 'Stop', 'Traffic_Calming', 'Traffic_Signal',\n",
              "       'Turning_Loop', 'Sunrise_Sunset', 'Civil_Twilight', 'Nautical_Twilight',\n",
              "       'Astronomical_Twilight'],\n",
              "      dtype='object')"
            ]
          },
          "metadata": {},
          "execution_count": 8
        }
      ]
    },
    {
      "cell_type": "code",
      "source": [
        "df.info()"
      ],
      "metadata": {
        "colab": {
          "base_uri": "https://localhost:8080/"
        },
        "id": "onrQdQ8gFSjw",
        "outputId": "73c40512-1220-4458-917c-a97366acca33"
      },
      "execution_count": null,
      "outputs": [
        {
          "output_type": "stream",
          "name": "stdout",
          "text": [
            "<class 'pandas.core.frame.DataFrame'>\n",
            "RangeIndex: 2845342 entries, 0 to 2845341\n",
            "Data columns (total 47 columns):\n",
            " #   Column                 Dtype  \n",
            "---  ------                 -----  \n",
            " 0   ID                     object \n",
            " 1   Severity               int64  \n",
            " 2   Start_Time             object \n",
            " 3   End_Time               object \n",
            " 4   Start_Lat              float64\n",
            " 5   Start_Lng              float64\n",
            " 6   End_Lat                float64\n",
            " 7   End_Lng                float64\n",
            " 8   Distance(mi)           float64\n",
            " 9   Description            object \n",
            " 10  Number                 float64\n",
            " 11  Street                 object \n",
            " 12  Side                   object \n",
            " 13  City                   object \n",
            " 14  County                 object \n",
            " 15  State                  object \n",
            " 16  Zipcode                object \n",
            " 17  Country                object \n",
            " 18  Timezone               object \n",
            " 19  Airport_Code           object \n",
            " 20  Weather_Timestamp      object \n",
            " 21  Temperature(F)         float64\n",
            " 22  Wind_Chill(F)          float64\n",
            " 23  Humidity(%)            float64\n",
            " 24  Pressure(in)           float64\n",
            " 25  Visibility(mi)         float64\n",
            " 26  Wind_Direction         object \n",
            " 27  Wind_Speed(mph)        float64\n",
            " 28  Precipitation(in)      float64\n",
            " 29  Weather_Condition      object \n",
            " 30  Amenity                bool   \n",
            " 31  Bump                   bool   \n",
            " 32  Crossing               bool   \n",
            " 33  Give_Way               bool   \n",
            " 34  Junction               bool   \n",
            " 35  No_Exit                bool   \n",
            " 36  Railway                bool   \n",
            " 37  Roundabout             bool   \n",
            " 38  Station                bool   \n",
            " 39  Stop                   bool   \n",
            " 40  Traffic_Calming        bool   \n",
            " 41  Traffic_Signal         bool   \n",
            " 42  Turning_Loop           bool   \n",
            " 43  Sunrise_Sunset         object \n",
            " 44  Civil_Twilight         object \n",
            " 45  Nautical_Twilight      object \n",
            " 46  Astronomical_Twilight  object \n",
            "dtypes: bool(13), float64(13), int64(1), object(20)\n",
            "memory usage: 773.4+ MB\n"
          ]
        }
      ]
    },
    {
      "cell_type": "code",
      "source": [
        "df.describe()"
      ],
      "metadata": {
        "colab": {
          "base_uri": "https://localhost:8080/",
          "height": 364
        },
        "id": "Z1rWo0azFt-k",
        "outputId": "cddb95e5-54e6-4a9f-ba2b-5a790ef3ca6e"
      },
      "execution_count": null,
      "outputs": [
        {
          "output_type": "execute_result",
          "data": {
            "text/plain": [
              "           Severity     Start_Lat     Start_Lng       End_Lat       End_Lng  \\\n",
              "count  2.845342e+06  2.845342e+06  2.845342e+06  2.845342e+06  2.845342e+06   \n",
              "mean   2.137572e+00  3.624520e+01 -9.711463e+01  3.624532e+01 -9.711439e+01   \n",
              "std    4.787216e-01  5.363797e+00  1.831782e+01  5.363873e+00  1.831763e+01   \n",
              "min    1.000000e+00  2.456603e+01 -1.245481e+02  2.456601e+01 -1.245457e+02   \n",
              "25%    2.000000e+00  3.344517e+01 -1.180331e+02  3.344628e+01 -1.180333e+02   \n",
              "50%    2.000000e+00  3.609861e+01 -9.241808e+01  3.609799e+01 -9.241772e+01   \n",
              "75%    2.000000e+00  4.016024e+01 -8.037243e+01  4.016105e+01 -8.037338e+01   \n",
              "max    4.000000e+00  4.900058e+01 -6.711317e+01  4.907500e+01 -6.710924e+01   \n",
              "\n",
              "       Distance(mi)        Number  Temperature(F)  Wind_Chill(F)  \\\n",
              "count  2.845342e+06  1.101431e+06    2.776068e+06   2.375699e+06   \n",
              "mean   7.026779e-01  8.089408e+03    6.179356e+01   5.965823e+01   \n",
              "std    1.560361e+00  1.836009e+04    1.862263e+01   2.116097e+01   \n",
              "min    0.000000e+00  0.000000e+00   -8.900000e+01  -8.900000e+01   \n",
              "25%    5.200000e-02  1.270000e+03    5.000000e+01   4.600000e+01   \n",
              "50%    2.440000e-01  4.007000e+03    6.400000e+01   6.300000e+01   \n",
              "75%    7.640000e-01  9.567000e+03    7.600000e+01   7.600000e+01   \n",
              "max    1.551860e+02  9.999997e+06    1.960000e+02   1.960000e+02   \n",
              "\n",
              "        Humidity(%)  Pressure(in)  Visibility(mi)  Wind_Speed(mph)  \\\n",
              "count  2.772250e+06  2.786142e+06    2.774796e+06     2.687398e+06   \n",
              "mean   6.436545e+01  2.947234e+01    9.099391e+00     7.395044e+00   \n",
              "std    2.287457e+01  1.045286e+00    2.717546e+00     5.527454e+00   \n",
              "min    1.000000e+00  0.000000e+00    0.000000e+00     0.000000e+00   \n",
              "25%    4.800000e+01  2.931000e+01    1.000000e+01     3.500000e+00   \n",
              "50%    6.700000e+01  2.982000e+01    1.000000e+01     7.000000e+00   \n",
              "75%    8.300000e+01  3.001000e+01    1.000000e+01     1.000000e+01   \n",
              "max    1.000000e+02  5.890000e+01    1.400000e+02     1.087000e+03   \n",
              "\n",
              "       Precipitation(in)  \n",
              "count       2.295884e+06  \n",
              "mean        7.016940e-03  \n",
              "std         9.348831e-02  \n",
              "min         0.000000e+00  \n",
              "25%         0.000000e+00  \n",
              "50%         0.000000e+00  \n",
              "75%         0.000000e+00  \n",
              "max         2.400000e+01  "
            ],
            "text/html": [
              "\n",
              "  <div id=\"df-205fdfca-3dee-493c-b887-5189da54ca70\">\n",
              "    <div class=\"colab-df-container\">\n",
              "      <div>\n",
              "<style scoped>\n",
              "    .dataframe tbody tr th:only-of-type {\n",
              "        vertical-align: middle;\n",
              "    }\n",
              "\n",
              "    .dataframe tbody tr th {\n",
              "        vertical-align: top;\n",
              "    }\n",
              "\n",
              "    .dataframe thead th {\n",
              "        text-align: right;\n",
              "    }\n",
              "</style>\n",
              "<table border=\"1\" class=\"dataframe\">\n",
              "  <thead>\n",
              "    <tr style=\"text-align: right;\">\n",
              "      <th></th>\n",
              "      <th>Severity</th>\n",
              "      <th>Start_Lat</th>\n",
              "      <th>Start_Lng</th>\n",
              "      <th>End_Lat</th>\n",
              "      <th>End_Lng</th>\n",
              "      <th>Distance(mi)</th>\n",
              "      <th>Number</th>\n",
              "      <th>Temperature(F)</th>\n",
              "      <th>Wind_Chill(F)</th>\n",
              "      <th>Humidity(%)</th>\n",
              "      <th>Pressure(in)</th>\n",
              "      <th>Visibility(mi)</th>\n",
              "      <th>Wind_Speed(mph)</th>\n",
              "      <th>Precipitation(in)</th>\n",
              "    </tr>\n",
              "  </thead>\n",
              "  <tbody>\n",
              "    <tr>\n",
              "      <th>count</th>\n",
              "      <td>2.845342e+06</td>\n",
              "      <td>2.845342e+06</td>\n",
              "      <td>2.845342e+06</td>\n",
              "      <td>2.845342e+06</td>\n",
              "      <td>2.845342e+06</td>\n",
              "      <td>2.845342e+06</td>\n",
              "      <td>1.101431e+06</td>\n",
              "      <td>2.776068e+06</td>\n",
              "      <td>2.375699e+06</td>\n",
              "      <td>2.772250e+06</td>\n",
              "      <td>2.786142e+06</td>\n",
              "      <td>2.774796e+06</td>\n",
              "      <td>2.687398e+06</td>\n",
              "      <td>2.295884e+06</td>\n",
              "    </tr>\n",
              "    <tr>\n",
              "      <th>mean</th>\n",
              "      <td>2.137572e+00</td>\n",
              "      <td>3.624520e+01</td>\n",
              "      <td>-9.711463e+01</td>\n",
              "      <td>3.624532e+01</td>\n",
              "      <td>-9.711439e+01</td>\n",
              "      <td>7.026779e-01</td>\n",
              "      <td>8.089408e+03</td>\n",
              "      <td>6.179356e+01</td>\n",
              "      <td>5.965823e+01</td>\n",
              "      <td>6.436545e+01</td>\n",
              "      <td>2.947234e+01</td>\n",
              "      <td>9.099391e+00</td>\n",
              "      <td>7.395044e+00</td>\n",
              "      <td>7.016940e-03</td>\n",
              "    </tr>\n",
              "    <tr>\n",
              "      <th>std</th>\n",
              "      <td>4.787216e-01</td>\n",
              "      <td>5.363797e+00</td>\n",
              "      <td>1.831782e+01</td>\n",
              "      <td>5.363873e+00</td>\n",
              "      <td>1.831763e+01</td>\n",
              "      <td>1.560361e+00</td>\n",
              "      <td>1.836009e+04</td>\n",
              "      <td>1.862263e+01</td>\n",
              "      <td>2.116097e+01</td>\n",
              "      <td>2.287457e+01</td>\n",
              "      <td>1.045286e+00</td>\n",
              "      <td>2.717546e+00</td>\n",
              "      <td>5.527454e+00</td>\n",
              "      <td>9.348831e-02</td>\n",
              "    </tr>\n",
              "    <tr>\n",
              "      <th>min</th>\n",
              "      <td>1.000000e+00</td>\n",
              "      <td>2.456603e+01</td>\n",
              "      <td>-1.245481e+02</td>\n",
              "      <td>2.456601e+01</td>\n",
              "      <td>-1.245457e+02</td>\n",
              "      <td>0.000000e+00</td>\n",
              "      <td>0.000000e+00</td>\n",
              "      <td>-8.900000e+01</td>\n",
              "      <td>-8.900000e+01</td>\n",
              "      <td>1.000000e+00</td>\n",
              "      <td>0.000000e+00</td>\n",
              "      <td>0.000000e+00</td>\n",
              "      <td>0.000000e+00</td>\n",
              "      <td>0.000000e+00</td>\n",
              "    </tr>\n",
              "    <tr>\n",
              "      <th>25%</th>\n",
              "      <td>2.000000e+00</td>\n",
              "      <td>3.344517e+01</td>\n",
              "      <td>-1.180331e+02</td>\n",
              "      <td>3.344628e+01</td>\n",
              "      <td>-1.180333e+02</td>\n",
              "      <td>5.200000e-02</td>\n",
              "      <td>1.270000e+03</td>\n",
              "      <td>5.000000e+01</td>\n",
              "      <td>4.600000e+01</td>\n",
              "      <td>4.800000e+01</td>\n",
              "      <td>2.931000e+01</td>\n",
              "      <td>1.000000e+01</td>\n",
              "      <td>3.500000e+00</td>\n",
              "      <td>0.000000e+00</td>\n",
              "    </tr>\n",
              "    <tr>\n",
              "      <th>50%</th>\n",
              "      <td>2.000000e+00</td>\n",
              "      <td>3.609861e+01</td>\n",
              "      <td>-9.241808e+01</td>\n",
              "      <td>3.609799e+01</td>\n",
              "      <td>-9.241772e+01</td>\n",
              "      <td>2.440000e-01</td>\n",
              "      <td>4.007000e+03</td>\n",
              "      <td>6.400000e+01</td>\n",
              "      <td>6.300000e+01</td>\n",
              "      <td>6.700000e+01</td>\n",
              "      <td>2.982000e+01</td>\n",
              "      <td>1.000000e+01</td>\n",
              "      <td>7.000000e+00</td>\n",
              "      <td>0.000000e+00</td>\n",
              "    </tr>\n",
              "    <tr>\n",
              "      <th>75%</th>\n",
              "      <td>2.000000e+00</td>\n",
              "      <td>4.016024e+01</td>\n",
              "      <td>-8.037243e+01</td>\n",
              "      <td>4.016105e+01</td>\n",
              "      <td>-8.037338e+01</td>\n",
              "      <td>7.640000e-01</td>\n",
              "      <td>9.567000e+03</td>\n",
              "      <td>7.600000e+01</td>\n",
              "      <td>7.600000e+01</td>\n",
              "      <td>8.300000e+01</td>\n",
              "      <td>3.001000e+01</td>\n",
              "      <td>1.000000e+01</td>\n",
              "      <td>1.000000e+01</td>\n",
              "      <td>0.000000e+00</td>\n",
              "    </tr>\n",
              "    <tr>\n",
              "      <th>max</th>\n",
              "      <td>4.000000e+00</td>\n",
              "      <td>4.900058e+01</td>\n",
              "      <td>-6.711317e+01</td>\n",
              "      <td>4.907500e+01</td>\n",
              "      <td>-6.710924e+01</td>\n",
              "      <td>1.551860e+02</td>\n",
              "      <td>9.999997e+06</td>\n",
              "      <td>1.960000e+02</td>\n",
              "      <td>1.960000e+02</td>\n",
              "      <td>1.000000e+02</td>\n",
              "      <td>5.890000e+01</td>\n",
              "      <td>1.400000e+02</td>\n",
              "      <td>1.087000e+03</td>\n",
              "      <td>2.400000e+01</td>\n",
              "    </tr>\n",
              "  </tbody>\n",
              "</table>\n",
              "</div>\n",
              "      <button class=\"colab-df-convert\" onclick=\"convertToInteractive('df-205fdfca-3dee-493c-b887-5189da54ca70')\"\n",
              "              title=\"Convert this dataframe to an interactive table.\"\n",
              "              style=\"display:none;\">\n",
              "        \n",
              "  <svg xmlns=\"http://www.w3.org/2000/svg\" height=\"24px\"viewBox=\"0 0 24 24\"\n",
              "       width=\"24px\">\n",
              "    <path d=\"M0 0h24v24H0V0z\" fill=\"none\"/>\n",
              "    <path d=\"M18.56 5.44l.94 2.06.94-2.06 2.06-.94-2.06-.94-.94-2.06-.94 2.06-2.06.94zm-11 1L8.5 8.5l.94-2.06 2.06-.94-2.06-.94L8.5 2.5l-.94 2.06-2.06.94zm10 10l.94 2.06.94-2.06 2.06-.94-2.06-.94-.94-2.06-.94 2.06-2.06.94z\"/><path d=\"M17.41 7.96l-1.37-1.37c-.4-.4-.92-.59-1.43-.59-.52 0-1.04.2-1.43.59L10.3 9.45l-7.72 7.72c-.78.78-.78 2.05 0 2.83L4 21.41c.39.39.9.59 1.41.59.51 0 1.02-.2 1.41-.59l7.78-7.78 2.81-2.81c.8-.78.8-2.07 0-2.86zM5.41 20L4 18.59l7.72-7.72 1.47 1.35L5.41 20z\"/>\n",
              "  </svg>\n",
              "      </button>\n",
              "      \n",
              "  <style>\n",
              "    .colab-df-container {\n",
              "      display:flex;\n",
              "      flex-wrap:wrap;\n",
              "      gap: 12px;\n",
              "    }\n",
              "\n",
              "    .colab-df-convert {\n",
              "      background-color: #E8F0FE;\n",
              "      border: none;\n",
              "      border-radius: 50%;\n",
              "      cursor: pointer;\n",
              "      display: none;\n",
              "      fill: #1967D2;\n",
              "      height: 32px;\n",
              "      padding: 0 0 0 0;\n",
              "      width: 32px;\n",
              "    }\n",
              "\n",
              "    .colab-df-convert:hover {\n",
              "      background-color: #E2EBFA;\n",
              "      box-shadow: 0px 1px 2px rgba(60, 64, 67, 0.3), 0px 1px 3px 1px rgba(60, 64, 67, 0.15);\n",
              "      fill: #174EA6;\n",
              "    }\n",
              "\n",
              "    [theme=dark] .colab-df-convert {\n",
              "      background-color: #3B4455;\n",
              "      fill: #D2E3FC;\n",
              "    }\n",
              "\n",
              "    [theme=dark] .colab-df-convert:hover {\n",
              "      background-color: #434B5C;\n",
              "      box-shadow: 0px 1px 3px 1px rgba(0, 0, 0, 0.15);\n",
              "      filter: drop-shadow(0px 1px 2px rgba(0, 0, 0, 0.3));\n",
              "      fill: #FFFFFF;\n",
              "    }\n",
              "  </style>\n",
              "\n",
              "      <script>\n",
              "        const buttonEl =\n",
              "          document.querySelector('#df-205fdfca-3dee-493c-b887-5189da54ca70 button.colab-df-convert');\n",
              "        buttonEl.style.display =\n",
              "          google.colab.kernel.accessAllowed ? 'block' : 'none';\n",
              "\n",
              "        async function convertToInteractive(key) {\n",
              "          const element = document.querySelector('#df-205fdfca-3dee-493c-b887-5189da54ca70');\n",
              "          const dataTable =\n",
              "            await google.colab.kernel.invokeFunction('convertToInteractive',\n",
              "                                                     [key], {});\n",
              "          if (!dataTable) return;\n",
              "\n",
              "          const docLinkHtml = 'Like what you see? Visit the ' +\n",
              "            '<a target=\"_blank\" href=https://colab.research.google.com/notebooks/data_table.ipynb>data table notebook</a>'\n",
              "            + ' to learn more about interactive tables.';\n",
              "          element.innerHTML = '';\n",
              "          dataTable['output_type'] = 'display_data';\n",
              "          await google.colab.output.renderOutput(dataTable, element);\n",
              "          const docLink = document.createElement('div');\n",
              "          docLink.innerHTML = docLinkHtml;\n",
              "          element.appendChild(docLink);\n",
              "        }\n",
              "      </script>\n",
              "    </div>\n",
              "  </div>\n",
              "  "
            ]
          },
          "metadata": {},
          "execution_count": 10
        }
      ]
    },
    {
      "cell_type": "code",
      "source": [
        "df.isna()"
      ],
      "metadata": {
        "colab": {
          "base_uri": "https://localhost:8080/",
          "height": 488
        },
        "id": "dKxLfK3ZFuVw",
        "outputId": "0559462d-0d33-4b79-a8d0-b402cb200143"
      },
      "execution_count": null,
      "outputs": [
        {
          "output_type": "execute_result",
          "data": {
            "text/plain": [
              "            ID  Severity  Start_Time  End_Time  Start_Lat  Start_Lng  End_Lat  \\\n",
              "0        False     False       False     False      False      False    False   \n",
              "1        False     False       False     False      False      False    False   \n",
              "2        False     False       False     False      False      False    False   \n",
              "3        False     False       False     False      False      False    False   \n",
              "4        False     False       False     False      False      False    False   \n",
              "...        ...       ...         ...       ...        ...        ...      ...   \n",
              "2845337  False     False       False     False      False      False    False   \n",
              "2845338  False     False       False     False      False      False    False   \n",
              "2845339  False     False       False     False      False      False    False   \n",
              "2845340  False     False       False     False      False      False    False   \n",
              "2845341  False     False       False     False      False      False    False   \n",
              "\n",
              "         End_Lng  Distance(mi)  Description  ...  Roundabout  Station   Stop  \\\n",
              "0          False         False        False  ...       False    False  False   \n",
              "1          False         False        False  ...       False    False  False   \n",
              "2          False         False        False  ...       False    False  False   \n",
              "3          False         False        False  ...       False    False  False   \n",
              "4          False         False        False  ...       False    False  False   \n",
              "...          ...           ...          ...  ...         ...      ...    ...   \n",
              "2845337    False         False        False  ...       False    False  False   \n",
              "2845338    False         False        False  ...       False    False  False   \n",
              "2845339    False         False        False  ...       False    False  False   \n",
              "2845340    False         False        False  ...       False    False  False   \n",
              "2845341    False         False        False  ...       False    False  False   \n",
              "\n",
              "         Traffic_Calming  Traffic_Signal  Turning_Loop  Sunrise_Sunset  \\\n",
              "0                  False           False         False           False   \n",
              "1                  False           False         False           False   \n",
              "2                  False           False         False           False   \n",
              "3                  False           False         False           False   \n",
              "4                  False           False         False           False   \n",
              "...                  ...             ...           ...             ...   \n",
              "2845337            False           False         False           False   \n",
              "2845338            False           False         False           False   \n",
              "2845339            False           False         False           False   \n",
              "2845340            False           False         False           False   \n",
              "2845341            False           False         False           False   \n",
              "\n",
              "         Civil_Twilight  Nautical_Twilight  Astronomical_Twilight  \n",
              "0                 False              False                  False  \n",
              "1                 False              False                  False  \n",
              "2                 False              False                  False  \n",
              "3                 False              False                  False  \n",
              "4                 False              False                  False  \n",
              "...                 ...                ...                    ...  \n",
              "2845337           False              False                  False  \n",
              "2845338           False              False                  False  \n",
              "2845339           False              False                  False  \n",
              "2845340           False              False                  False  \n",
              "2845341           False              False                  False  \n",
              "\n",
              "[2845342 rows x 47 columns]"
            ],
            "text/html": [
              "\n",
              "  <div id=\"df-93114cbe-c121-4d9e-8eab-97fda6353087\">\n",
              "    <div class=\"colab-df-container\">\n",
              "      <div>\n",
              "<style scoped>\n",
              "    .dataframe tbody tr th:only-of-type {\n",
              "        vertical-align: middle;\n",
              "    }\n",
              "\n",
              "    .dataframe tbody tr th {\n",
              "        vertical-align: top;\n",
              "    }\n",
              "\n",
              "    .dataframe thead th {\n",
              "        text-align: right;\n",
              "    }\n",
              "</style>\n",
              "<table border=\"1\" class=\"dataframe\">\n",
              "  <thead>\n",
              "    <tr style=\"text-align: right;\">\n",
              "      <th></th>\n",
              "      <th>ID</th>\n",
              "      <th>Severity</th>\n",
              "      <th>Start_Time</th>\n",
              "      <th>End_Time</th>\n",
              "      <th>Start_Lat</th>\n",
              "      <th>Start_Lng</th>\n",
              "      <th>End_Lat</th>\n",
              "      <th>End_Lng</th>\n",
              "      <th>Distance(mi)</th>\n",
              "      <th>Description</th>\n",
              "      <th>...</th>\n",
              "      <th>Roundabout</th>\n",
              "      <th>Station</th>\n",
              "      <th>Stop</th>\n",
              "      <th>Traffic_Calming</th>\n",
              "      <th>Traffic_Signal</th>\n",
              "      <th>Turning_Loop</th>\n",
              "      <th>Sunrise_Sunset</th>\n",
              "      <th>Civil_Twilight</th>\n",
              "      <th>Nautical_Twilight</th>\n",
              "      <th>Astronomical_Twilight</th>\n",
              "    </tr>\n",
              "  </thead>\n",
              "  <tbody>\n",
              "    <tr>\n",
              "      <th>0</th>\n",
              "      <td>False</td>\n",
              "      <td>False</td>\n",
              "      <td>False</td>\n",
              "      <td>False</td>\n",
              "      <td>False</td>\n",
              "      <td>False</td>\n",
              "      <td>False</td>\n",
              "      <td>False</td>\n",
              "      <td>False</td>\n",
              "      <td>False</td>\n",
              "      <td>...</td>\n",
              "      <td>False</td>\n",
              "      <td>False</td>\n",
              "      <td>False</td>\n",
              "      <td>False</td>\n",
              "      <td>False</td>\n",
              "      <td>False</td>\n",
              "      <td>False</td>\n",
              "      <td>False</td>\n",
              "      <td>False</td>\n",
              "      <td>False</td>\n",
              "    </tr>\n",
              "    <tr>\n",
              "      <th>1</th>\n",
              "      <td>False</td>\n",
              "      <td>False</td>\n",
              "      <td>False</td>\n",
              "      <td>False</td>\n",
              "      <td>False</td>\n",
              "      <td>False</td>\n",
              "      <td>False</td>\n",
              "      <td>False</td>\n",
              "      <td>False</td>\n",
              "      <td>False</td>\n",
              "      <td>...</td>\n",
              "      <td>False</td>\n",
              "      <td>False</td>\n",
              "      <td>False</td>\n",
              "      <td>False</td>\n",
              "      <td>False</td>\n",
              "      <td>False</td>\n",
              "      <td>False</td>\n",
              "      <td>False</td>\n",
              "      <td>False</td>\n",
              "      <td>False</td>\n",
              "    </tr>\n",
              "    <tr>\n",
              "      <th>2</th>\n",
              "      <td>False</td>\n",
              "      <td>False</td>\n",
              "      <td>False</td>\n",
              "      <td>False</td>\n",
              "      <td>False</td>\n",
              "      <td>False</td>\n",
              "      <td>False</td>\n",
              "      <td>False</td>\n",
              "      <td>False</td>\n",
              "      <td>False</td>\n",
              "      <td>...</td>\n",
              "      <td>False</td>\n",
              "      <td>False</td>\n",
              "      <td>False</td>\n",
              "      <td>False</td>\n",
              "      <td>False</td>\n",
              "      <td>False</td>\n",
              "      <td>False</td>\n",
              "      <td>False</td>\n",
              "      <td>False</td>\n",
              "      <td>False</td>\n",
              "    </tr>\n",
              "    <tr>\n",
              "      <th>3</th>\n",
              "      <td>False</td>\n",
              "      <td>False</td>\n",
              "      <td>False</td>\n",
              "      <td>False</td>\n",
              "      <td>False</td>\n",
              "      <td>False</td>\n",
              "      <td>False</td>\n",
              "      <td>False</td>\n",
              "      <td>False</td>\n",
              "      <td>False</td>\n",
              "      <td>...</td>\n",
              "      <td>False</td>\n",
              "      <td>False</td>\n",
              "      <td>False</td>\n",
              "      <td>False</td>\n",
              "      <td>False</td>\n",
              "      <td>False</td>\n",
              "      <td>False</td>\n",
              "      <td>False</td>\n",
              "      <td>False</td>\n",
              "      <td>False</td>\n",
              "    </tr>\n",
              "    <tr>\n",
              "      <th>4</th>\n",
              "      <td>False</td>\n",
              "      <td>False</td>\n",
              "      <td>False</td>\n",
              "      <td>False</td>\n",
              "      <td>False</td>\n",
              "      <td>False</td>\n",
              "      <td>False</td>\n",
              "      <td>False</td>\n",
              "      <td>False</td>\n",
              "      <td>False</td>\n",
              "      <td>...</td>\n",
              "      <td>False</td>\n",
              "      <td>False</td>\n",
              "      <td>False</td>\n",
              "      <td>False</td>\n",
              "      <td>False</td>\n",
              "      <td>False</td>\n",
              "      <td>False</td>\n",
              "      <td>False</td>\n",
              "      <td>False</td>\n",
              "      <td>False</td>\n",
              "    </tr>\n",
              "    <tr>\n",
              "      <th>...</th>\n",
              "      <td>...</td>\n",
              "      <td>...</td>\n",
              "      <td>...</td>\n",
              "      <td>...</td>\n",
              "      <td>...</td>\n",
              "      <td>...</td>\n",
              "      <td>...</td>\n",
              "      <td>...</td>\n",
              "      <td>...</td>\n",
              "      <td>...</td>\n",
              "      <td>...</td>\n",
              "      <td>...</td>\n",
              "      <td>...</td>\n",
              "      <td>...</td>\n",
              "      <td>...</td>\n",
              "      <td>...</td>\n",
              "      <td>...</td>\n",
              "      <td>...</td>\n",
              "      <td>...</td>\n",
              "      <td>...</td>\n",
              "      <td>...</td>\n",
              "    </tr>\n",
              "    <tr>\n",
              "      <th>2845337</th>\n",
              "      <td>False</td>\n",
              "      <td>False</td>\n",
              "      <td>False</td>\n",
              "      <td>False</td>\n",
              "      <td>False</td>\n",
              "      <td>False</td>\n",
              "      <td>False</td>\n",
              "      <td>False</td>\n",
              "      <td>False</td>\n",
              "      <td>False</td>\n",
              "      <td>...</td>\n",
              "      <td>False</td>\n",
              "      <td>False</td>\n",
              "      <td>False</td>\n",
              "      <td>False</td>\n",
              "      <td>False</td>\n",
              "      <td>False</td>\n",
              "      <td>False</td>\n",
              "      <td>False</td>\n",
              "      <td>False</td>\n",
              "      <td>False</td>\n",
              "    </tr>\n",
              "    <tr>\n",
              "      <th>2845338</th>\n",
              "      <td>False</td>\n",
              "      <td>False</td>\n",
              "      <td>False</td>\n",
              "      <td>False</td>\n",
              "      <td>False</td>\n",
              "      <td>False</td>\n",
              "      <td>False</td>\n",
              "      <td>False</td>\n",
              "      <td>False</td>\n",
              "      <td>False</td>\n",
              "      <td>...</td>\n",
              "      <td>False</td>\n",
              "      <td>False</td>\n",
              "      <td>False</td>\n",
              "      <td>False</td>\n",
              "      <td>False</td>\n",
              "      <td>False</td>\n",
              "      <td>False</td>\n",
              "      <td>False</td>\n",
              "      <td>False</td>\n",
              "      <td>False</td>\n",
              "    </tr>\n",
              "    <tr>\n",
              "      <th>2845339</th>\n",
              "      <td>False</td>\n",
              "      <td>False</td>\n",
              "      <td>False</td>\n",
              "      <td>False</td>\n",
              "      <td>False</td>\n",
              "      <td>False</td>\n",
              "      <td>False</td>\n",
              "      <td>False</td>\n",
              "      <td>False</td>\n",
              "      <td>False</td>\n",
              "      <td>...</td>\n",
              "      <td>False</td>\n",
              "      <td>False</td>\n",
              "      <td>False</td>\n",
              "      <td>False</td>\n",
              "      <td>False</td>\n",
              "      <td>False</td>\n",
              "      <td>False</td>\n",
              "      <td>False</td>\n",
              "      <td>False</td>\n",
              "      <td>False</td>\n",
              "    </tr>\n",
              "    <tr>\n",
              "      <th>2845340</th>\n",
              "      <td>False</td>\n",
              "      <td>False</td>\n",
              "      <td>False</td>\n",
              "      <td>False</td>\n",
              "      <td>False</td>\n",
              "      <td>False</td>\n",
              "      <td>False</td>\n",
              "      <td>False</td>\n",
              "      <td>False</td>\n",
              "      <td>False</td>\n",
              "      <td>...</td>\n",
              "      <td>False</td>\n",
              "      <td>False</td>\n",
              "      <td>False</td>\n",
              "      <td>False</td>\n",
              "      <td>False</td>\n",
              "      <td>False</td>\n",
              "      <td>False</td>\n",
              "      <td>False</td>\n",
              "      <td>False</td>\n",
              "      <td>False</td>\n",
              "    </tr>\n",
              "    <tr>\n",
              "      <th>2845341</th>\n",
              "      <td>False</td>\n",
              "      <td>False</td>\n",
              "      <td>False</td>\n",
              "      <td>False</td>\n",
              "      <td>False</td>\n",
              "      <td>False</td>\n",
              "      <td>False</td>\n",
              "      <td>False</td>\n",
              "      <td>False</td>\n",
              "      <td>False</td>\n",
              "      <td>...</td>\n",
              "      <td>False</td>\n",
              "      <td>False</td>\n",
              "      <td>False</td>\n",
              "      <td>False</td>\n",
              "      <td>False</td>\n",
              "      <td>False</td>\n",
              "      <td>False</td>\n",
              "      <td>False</td>\n",
              "      <td>False</td>\n",
              "      <td>False</td>\n",
              "    </tr>\n",
              "  </tbody>\n",
              "</table>\n",
              "<p>2845342 rows × 47 columns</p>\n",
              "</div>\n",
              "      <button class=\"colab-df-convert\" onclick=\"convertToInteractive('df-93114cbe-c121-4d9e-8eab-97fda6353087')\"\n",
              "              title=\"Convert this dataframe to an interactive table.\"\n",
              "              style=\"display:none;\">\n",
              "        \n",
              "  <svg xmlns=\"http://www.w3.org/2000/svg\" height=\"24px\"viewBox=\"0 0 24 24\"\n",
              "       width=\"24px\">\n",
              "    <path d=\"M0 0h24v24H0V0z\" fill=\"none\"/>\n",
              "    <path d=\"M18.56 5.44l.94 2.06.94-2.06 2.06-.94-2.06-.94-.94-2.06-.94 2.06-2.06.94zm-11 1L8.5 8.5l.94-2.06 2.06-.94-2.06-.94L8.5 2.5l-.94 2.06-2.06.94zm10 10l.94 2.06.94-2.06 2.06-.94-2.06-.94-.94-2.06-.94 2.06-2.06.94z\"/><path d=\"M17.41 7.96l-1.37-1.37c-.4-.4-.92-.59-1.43-.59-.52 0-1.04.2-1.43.59L10.3 9.45l-7.72 7.72c-.78.78-.78 2.05 0 2.83L4 21.41c.39.39.9.59 1.41.59.51 0 1.02-.2 1.41-.59l7.78-7.78 2.81-2.81c.8-.78.8-2.07 0-2.86zM5.41 20L4 18.59l7.72-7.72 1.47 1.35L5.41 20z\"/>\n",
              "  </svg>\n",
              "      </button>\n",
              "      \n",
              "  <style>\n",
              "    .colab-df-container {\n",
              "      display:flex;\n",
              "      flex-wrap:wrap;\n",
              "      gap: 12px;\n",
              "    }\n",
              "\n",
              "    .colab-df-convert {\n",
              "      background-color: #E8F0FE;\n",
              "      border: none;\n",
              "      border-radius: 50%;\n",
              "      cursor: pointer;\n",
              "      display: none;\n",
              "      fill: #1967D2;\n",
              "      height: 32px;\n",
              "      padding: 0 0 0 0;\n",
              "      width: 32px;\n",
              "    }\n",
              "\n",
              "    .colab-df-convert:hover {\n",
              "      background-color: #E2EBFA;\n",
              "      box-shadow: 0px 1px 2px rgba(60, 64, 67, 0.3), 0px 1px 3px 1px rgba(60, 64, 67, 0.15);\n",
              "      fill: #174EA6;\n",
              "    }\n",
              "\n",
              "    [theme=dark] .colab-df-convert {\n",
              "      background-color: #3B4455;\n",
              "      fill: #D2E3FC;\n",
              "    }\n",
              "\n",
              "    [theme=dark] .colab-df-convert:hover {\n",
              "      background-color: #434B5C;\n",
              "      box-shadow: 0px 1px 3px 1px rgba(0, 0, 0, 0.15);\n",
              "      filter: drop-shadow(0px 1px 2px rgba(0, 0, 0, 0.3));\n",
              "      fill: #FFFFFF;\n",
              "    }\n",
              "  </style>\n",
              "\n",
              "      <script>\n",
              "        const buttonEl =\n",
              "          document.querySelector('#df-93114cbe-c121-4d9e-8eab-97fda6353087 button.colab-df-convert');\n",
              "        buttonEl.style.display =\n",
              "          google.colab.kernel.accessAllowed ? 'block' : 'none';\n",
              "\n",
              "        async function convertToInteractive(key) {\n",
              "          const element = document.querySelector('#df-93114cbe-c121-4d9e-8eab-97fda6353087');\n",
              "          const dataTable =\n",
              "            await google.colab.kernel.invokeFunction('convertToInteractive',\n",
              "                                                     [key], {});\n",
              "          if (!dataTable) return;\n",
              "\n",
              "          const docLinkHtml = 'Like what you see? Visit the ' +\n",
              "            '<a target=\"_blank\" href=https://colab.research.google.com/notebooks/data_table.ipynb>data table notebook</a>'\n",
              "            + ' to learn more about interactive tables.';\n",
              "          element.innerHTML = '';\n",
              "          dataTable['output_type'] = 'display_data';\n",
              "          await google.colab.output.renderOutput(dataTable, element);\n",
              "          const docLink = document.createElement('div');\n",
              "          docLink.innerHTML = docLinkHtml;\n",
              "          element.appendChild(docLink);\n",
              "        }\n",
              "      </script>\n",
              "    </div>\n",
              "  </div>\n",
              "  "
            ]
          },
          "metadata": {},
          "execution_count": 19
        }
      ]
    },
    {
      "cell_type": "markdown",
      "source": [
        "# Percentage of missing values per column"
      ],
      "metadata": {
        "id": "feNNFeWkKCXO"
      }
    },
    {
      "cell_type": "code",
      "source": [
        "missing_percentage = df.isna().sum().sort_values(ascending=False) / len(df)\n",
        "missing_percentage"
      ],
      "metadata": {
        "colab": {
          "base_uri": "https://localhost:8080/"
        },
        "id": "5pkVXFP8FunO",
        "outputId": "4c1dfe9e-383d-458c-90a7-401c73365726"
      },
      "execution_count": null,
      "outputs": [
        {
          "output_type": "execute_result",
          "data": {
            "text/plain": [
              "Number                   6.129003e-01\n",
              "Precipitation(in)        1.931079e-01\n",
              "Wind_Chill(F)            1.650568e-01\n",
              "Wind_Speed(mph)          5.550967e-02\n",
              "Wind_Direction           2.592834e-02\n",
              "Humidity(%)              2.568830e-02\n",
              "Weather_Condition        2.482514e-02\n",
              "Visibility(mi)           2.479350e-02\n",
              "Temperature(F)           2.434646e-02\n",
              "Pressure(in)             2.080593e-02\n",
              "Weather_Timestamp        1.783125e-02\n",
              "Airport_Code             3.356011e-03\n",
              "Timezone                 1.285961e-03\n",
              "Nautical_Twilight        1.007612e-03\n",
              "Civil_Twilight           1.007612e-03\n",
              "Sunrise_Sunset           1.007612e-03\n",
              "Astronomical_Twilight    1.007612e-03\n",
              "Zipcode                  4.635647e-04\n",
              "City                     4.814887e-05\n",
              "Street                   7.029032e-07\n",
              "Country                  0.000000e+00\n",
              "Junction                 0.000000e+00\n",
              "Start_Time               0.000000e+00\n",
              "End_Time                 0.000000e+00\n",
              "Start_Lat                0.000000e+00\n",
              "Turning_Loop             0.000000e+00\n",
              "Traffic_Signal           0.000000e+00\n",
              "Traffic_Calming          0.000000e+00\n",
              "Stop                     0.000000e+00\n",
              "Station                  0.000000e+00\n",
              "Roundabout               0.000000e+00\n",
              "Railway                  0.000000e+00\n",
              "No_Exit                  0.000000e+00\n",
              "Crossing                 0.000000e+00\n",
              "Give_Way                 0.000000e+00\n",
              "Bump                     0.000000e+00\n",
              "Amenity                  0.000000e+00\n",
              "Start_Lng                0.000000e+00\n",
              "End_Lat                  0.000000e+00\n",
              "End_Lng                  0.000000e+00\n",
              "Distance(mi)             0.000000e+00\n",
              "Description              0.000000e+00\n",
              "Severity                 0.000000e+00\n",
              "Side                     0.000000e+00\n",
              "County                   0.000000e+00\n",
              "State                    0.000000e+00\n",
              "ID                       0.000000e+00\n",
              "dtype: float64"
            ]
          },
          "metadata": {},
          "execution_count": 24
        }
      ]
    },
    {
      "cell_type": "code",
      "source": [
        "missing_percentage[missing_percentage !=0]"
      ],
      "metadata": {
        "colab": {
          "base_uri": "https://localhost:8080/"
        },
        "id": "0Se_DxMnLmkS",
        "outputId": "f1ea8028-d2a7-4351-9324-af1a5913325f"
      },
      "execution_count": null,
      "outputs": [
        {
          "output_type": "execute_result",
          "data": {
            "text/plain": [
              "Number                   6.129003e-01\n",
              "Precipitation(in)        1.931079e-01\n",
              "Wind_Chill(F)            1.650568e-01\n",
              "Wind_Speed(mph)          5.550967e-02\n",
              "Wind_Direction           2.592834e-02\n",
              "Humidity(%)              2.568830e-02\n",
              "Weather_Condition        2.482514e-02\n",
              "Visibility(mi)           2.479350e-02\n",
              "Temperature(F)           2.434646e-02\n",
              "Pressure(in)             2.080593e-02\n",
              "Weather_Timestamp        1.783125e-02\n",
              "Airport_Code             3.356011e-03\n",
              "Timezone                 1.285961e-03\n",
              "Nautical_Twilight        1.007612e-03\n",
              "Civil_Twilight           1.007612e-03\n",
              "Sunrise_Sunset           1.007612e-03\n",
              "Astronomical_Twilight    1.007612e-03\n",
              "Zipcode                  4.635647e-04\n",
              "City                     4.814887e-05\n",
              "Street                   7.029032e-07\n",
              "dtype: float64"
            ]
          },
          "metadata": {},
          "execution_count": 27
        }
      ]
    },
    {
      "cell_type": "code",
      "source": [
        "missing_percentage[missing_percentage !=0].plot(kind='barh')"
      ],
      "metadata": {
        "colab": {
          "base_uri": "https://localhost:8080/",
          "height": 282
        },
        "id": "7vX8rAXhJvvo",
        "outputId": "a993974d-da24-4495-9ce7-6fad4f0da9f5"
      },
      "execution_count": null,
      "outputs": [
        {
          "output_type": "execute_result",
          "data": {
            "text/plain": [
              "<matplotlib.axes._subplots.AxesSubplot at 0x7fedbb3e8bd0>"
            ]
          },
          "metadata": {},
          "execution_count": 29
        },
        {
          "output_type": "display_data",
          "data": {
            "text/plain": [
              "<Figure size 432x288 with 1 Axes>"
            ],
            "image/png": "[encoded data removed]"
          },
          "metadata": {
            "needs_background": "light"
          }
        }
      ]
    },
    {
      "cell_type": "markdown",
      "source": [
        "Remove columns that we dont want to use"
      ],
      "metadata": {
        "id": "8hfajL0CMcxn"
      }
    },
    {
      "cell_type": "markdown",
      "source": [
        "# Exploratory analysis and visualization\n",
        "\n",
        "Columns analyzed\n",
        "1. City\n",
        "2. Start Time\n",
        "3. Start_Lat and Start_lng\n",
        "4. Temprature(F)\n",
        "5. Weather_condition"
      ],
      "metadata": {
        "id": "4_baBopXMrgE"
      }
    },
    {
      "cell_type": "code",
      "source": [
        "df.columns"
      ],
      "metadata": {
        "colab": {
          "base_uri": "https://localhost:8080/"
        },
        "id": "8BG06A-bMxkZ",
        "outputId": "3cf6cc71-f9a2-4f3d-a5df-08992667024a"
      },
      "execution_count": null,
      "outputs": [
        {
          "output_type": "execute_result",
          "data": {
            "text/plain": [
              "Index(['ID', 'Severity', 'Start_Time', 'End_Time', 'Start_Lat', 'Start_Lng',\n",
              "       'End_Lat', 'End_Lng', 'Distance(mi)', 'Description', 'Number', 'Street',\n",
              "       'Side', 'City', 'County', 'State', 'Zipcode', 'Country', 'Timezone',\n",
              "       'Airport_Code', 'Weather_Timestamp', 'Temperature(F)', 'Wind_Chill(F)',\n",
              "       'Humidity(%)', 'Pressure(in)', 'Visibility(mi)', 'Wind_Direction',\n",
              "       'Wind_Speed(mph)', 'Precipitation(in)', 'Weather_Condition', 'Amenity',\n",
              "       'Bump', 'Crossing', 'Give_Way', 'Junction', 'No_Exit', 'Railway',\n",
              "       'Roundabout', 'Station', 'Stop', 'Traffic_Calming', 'Traffic_Signal',\n",
              "       'Turning_Loop', 'Sunrise_Sunset', 'Civil_Twilight', 'Nautical_Twilight',\n",
              "       'Astronomical_Twilight'],\n",
              "      dtype='object')"
            ]
          },
          "metadata": {},
          "execution_count": 30
        }
      ]
    },
    {
      "cell_type": "code",
      "source": [
        "cities = df.City.unique()\n",
        "len(cities)"
      ],
      "metadata": {
        "colab": {
          "base_uri": "https://localhost:8080/"
        },
        "id": "NaShMefwMxnC",
        "outputId": "1424de34-b7d4-4d7c-ad26-11d3dca9951e"
      },
      "execution_count": null,
      "outputs": [
        {
          "output_type": "execute_result",
          "data": {
            "text/plain": [
              "11682"
            ]
          },
          "metadata": {},
          "execution_count": 36
        }
      ]
    },
    {
      "cell_type": "code",
      "source": [
        "cities_by_accident = df.City.value_counts()\n",
        "cities_by_accident[:20]"
      ],
      "metadata": {
        "colab": {
          "base_uri": "https://localhost:8080/"
        },
        "id": "uE3Ys5lWMxpt",
        "outputId": "33d40850-9b3c-4256-cc3e-6da1735e0b37"
      },
      "execution_count": null,
      "outputs": [
        {
          "output_type": "execute_result",
          "data": {
            "text/plain": [
              "Miami           106966\n",
              "Los Angeles      68956\n",
              "Orlando          54691\n",
              "Dallas           41979\n",
              "Houston          39448\n",
              "Charlotte        33152\n",
              "Sacramento       32559\n",
              "San Diego        26627\n",
              "Raleigh          22840\n",
              "Minneapolis      22768\n",
              "Portland         20944\n",
              "Nashville        20267\n",
              "Austin           18301\n",
              "Baton Rouge      18182\n",
              "Phoenix          17143\n",
              "Saint Paul       16869\n",
              "New Orleans      16251\n",
              "Atlanta          15622\n",
              "Jacksonville     14967\n",
              "Richmond         14349\n",
              "Name: City, dtype: int64"
            ]
          },
          "metadata": {},
          "execution_count": 39
        }
      ]
    },
    {
      "cell_type": "code",
      "source": [
        "cities_by_accident[:20].plot(kind='barh')"
      ],
      "metadata": {
        "colab": {
          "base_uri": "https://localhost:8080/",
          "height": 282
        },
        "id": "AFH4tikaMxtE",
        "outputId": "45d0ad51-7a6e-4f6d-8389-d174071336d7"
      },
      "execution_count": null,
      "outputs": [
        {
          "output_type": "execute_result",
          "data": {
            "text/plain": [
              "<matplotlib.axes._subplots.AxesSubplot at 0x7fedabee6c50>"
            ]
          },
          "metadata": {},
          "execution_count": 53
        },
        {
          "output_type": "display_data",
          "data": {
            "text/plain": [
              "<Figure size 432x288 with 1 Axes>"
            ],
            "image/png": "[encoded data removed]"
          },
          "metadata": {
            "needs_background": "light"
          }
        }
      ]
    },
    {
      "cell_type": "code",
      "source": [
        "import seaborn as sns\n",
        "sns.set_style(\"darkgrid\")"
      ],
      "metadata": {
        "id": "CmSgNq4pSpIo"
      },
      "execution_count": null,
      "outputs": []
    },
    {
      "cell_type": "code",
      "source": [
        "sns.histplot(cities_by_accident, log_scale=True)"
      ],
      "metadata": {
        "colab": {
          "base_uri": "https://localhost:8080/",
          "height": 300
        },
        "id": "ovxYKdh5SpAG",
        "outputId": "8f6d1c39-2d7d-4a36-e8a1-8188a74c42b1"
      },
      "execution_count": null,
      "outputs": [
        {
          "output_type": "execute_result",
          "data": {
            "text/plain": [
              "<matplotlib.axes._subplots.AxesSubplot at 0x7fed91faad90>"
            ]
          },
          "metadata": {},
          "execution_count": 64
        },
        {
          "output_type": "display_data",
          "data": {
            "text/plain": [
              "<Figure size 432x288 with 1 Axes>"
            ],
            "image/png": "[encoded data removed]"
          },
          "metadata": {}
        }
      ]
    },
    {
      "cell_type": "code",
      "source": [
        "cities_by_accident[cities_by_accident == 1]"
      ],
      "metadata": {
        "colab": {
          "base_uri": "https://localhost:8080/"
        },
        "id": "KO_cD9tFWPCv",
        "outputId": "6d7afcb8-b7bf-4bc4-c902-eaab9e4f46bd"
      },
      "execution_count": null,
      "outputs": [
        {
          "output_type": "execute_result",
          "data": {
            "text/plain": [
              "Carney                          1\n",
              "Waverly Hall                    1\n",
              "Center Sandwich                 1\n",
              "Glen Flora                      1\n",
              "Sulphur Springs                 1\n",
              "                               ..\n",
              "Ridgedale                       1\n",
              "Sekiu                           1\n",
              "Wooldridge                      1\n",
              "Bullock                         1\n",
              "American Fork-Pleasant Grove    1\n",
              "Name: City, Length: 1110, dtype: int64"
            ]
          },
          "metadata": {},
          "execution_count": 65
        }
      ]
    },
    {
      "cell_type": "markdown",
      "source": [
        "### Start Time"
      ],
      "metadata": {
        "id": "24FXpkomXJB0"
      }
    },
    {
      "cell_type": "code",
      "source": [
        "df.Start_Time\n"
      ],
      "metadata": {
        "colab": {
          "base_uri": "https://localhost:8080/"
        },
        "id": "B1JCaeK1WPGP",
        "outputId": "41c9fbc3-634f-416d-90ee-5d239c611baf"
      },
      "execution_count": null,
      "outputs": [
        {
          "output_type": "execute_result",
          "data": {
            "text/plain": [
              "0          2016-02-08 00:37:08\n",
              "1          2016-02-08 05:56:20\n",
              "2          2016-02-08 06:15:39\n",
              "3          2016-02-08 06:51:45\n",
              "4          2016-02-08 07:53:43\n",
              "                  ...         \n",
              "2845337    2019-08-23 18:03:25\n",
              "2845338    2019-08-23 19:11:30\n",
              "2845339    2019-08-23 19:00:21\n",
              "2845340    2019-08-23 19:00:21\n",
              "2845341    2019-08-23 18:52:06\n",
              "Name: Start_Time, Length: 2845342, dtype: object"
            ]
          },
          "metadata": {},
          "execution_count": 67
        }
      ]
    },
    {
      "cell_type": "markdown",
      "source": [
        "Changing format of Start time to datetime(timestamp) format\n",
        "\n"
      ],
      "metadata": {
        "id": "bIFGhTFYYz7s"
      }
    },
    {
      "cell_type": "code",
      "source": [
        "pd.to_datetime(df.Start_Time)"
      ],
      "metadata": {
        "colab": {
          "base_uri": "https://localhost:8080/"
        },
        "id": "vts3zvQUYXwc",
        "outputId": "c13ad2e1-17a7-42fd-e90a-2be729dfd824"
      },
      "execution_count": null,
      "outputs": [
        {
          "output_type": "execute_result",
          "data": {
            "text/plain": [
              "0         2016-02-08 00:37:08\n",
              "1         2016-02-08 05:56:20\n",
              "2         2016-02-08 06:15:39\n",
              "3         2016-02-08 06:51:45\n",
              "4         2016-02-08 07:53:43\n",
              "                  ...        \n",
              "2845337   2019-08-23 18:03:25\n",
              "2845338   2019-08-23 19:11:30\n",
              "2845339   2019-08-23 19:00:21\n",
              "2845340   2019-08-23 19:00:21\n",
              "2845341   2019-08-23 18:52:06\n",
              "Name: Start_Time, Length: 2845342, dtype: datetime64[ns]"
            ]
          },
          "metadata": {},
          "execution_count": 69
        }
      ]
    },
    {
      "cell_type": "markdown",
      "source": [
        "Overwriting original data into new format for Start_Time Column"
      ],
      "metadata": {
        "id": "w1T6ioEXZGc-"
      }
    },
    {
      "cell_type": "code",
      "source": [
        "df.Start_Time = pd.to_datetime(df.Start_Time)"
      ],
      "metadata": {
        "id": "PW-PrADWYXzc"
      },
      "execution_count": null,
      "outputs": []
    },
    {
      "cell_type": "markdown",
      "source": [
        "Visualizing which hours of the day have most no. of accident"
      ],
      "metadata": {
        "id": "G_lEoVN_dwjV"
      }
    },
    {
      "cell_type": "code",
      "source": [
        "sns.distplot(df.Start_Time.dt.hour, bins=24, kde=False, norm_hist=True)"
      ],
      "metadata": {
        "colab": {
          "base_uri": "https://localhost:8080/",
          "height": 352
        },
        "id": "W0GrDJgbYX2N",
        "outputId": "8c9ed09f-5c58-4de9-b1f6-a5da3e73f924"
      },
      "execution_count": null,
      "outputs": [
        {
          "output_type": "stream",
          "name": "stderr",
          "text": [
            "/usr/local/lib/python3.7/dist-packages/seaborn/distributions.py:2619: FutureWarning: `distplot` is a deprecated function and will be removed in a future version. Please adapt your code to use either `displot` (a figure-level function with similar flexibility) or `histplot` (an axes-level function for histograms).\n",
            "  warnings.warn(msg, FutureWarning)\n"
          ]
        },
        {
          "output_type": "execute_result",
          "data": {
            "text/plain": [
              "<matplotlib.axes._subplots.AxesSubplot at 0x7fed91d6c5d0>"
            ]
          },
          "metadata": {},
          "execution_count": 74
        },
        {
          "output_type": "display_data",
          "data": {
            "text/plain": [
              "<Figure size 432x288 with 1 Axes>"
            ],
            "image/png": "[encoded data removed]"
          },
          "metadata": {}
        }
      ]
    },
    {
      "cell_type": "markdown",
      "source": [
        "- Highest Percentage of Accidents occur between 3 PM to 6 PM  - Might be due to higher traffic during the evening hours \n",
        "- Next highest percentage is between 7 AM to 9 AM"
      ],
      "metadata": {
        "id": "25qPQ36TccxE"
      }
    },
    {
      "cell_type": "markdown",
      "source": [
        "Visualizing which day of the weeks have most no. of accident"
      ],
      "metadata": {
        "id": "ut6WllGFeLsF"
      }
    },
    {
      "cell_type": "code",
      "source": [
        "sns.distplot(df.Start_Time.dt.dayofweek, bins=7, kde=False, norm_hist=True)"
      ],
      "metadata": {
        "colab": {
          "base_uri": "https://localhost:8080/",
          "height": 352
        },
        "id": "I14aMasCYX5W",
        "outputId": "889e7bef-4c35-4092-d28f-152f0a486e65"
      },
      "execution_count": null,
      "outputs": [
        {
          "output_type": "stream",
          "name": "stderr",
          "text": [
            "/usr/local/lib/python3.7/dist-packages/seaborn/distributions.py:2619: FutureWarning: `distplot` is a deprecated function and will be removed in a future version. Please adapt your code to use either `displot` (a figure-level function with similar flexibility) or `histplot` (an axes-level function for histograms).\n",
            "  warnings.warn(msg, FutureWarning)\n"
          ]
        },
        {
          "output_type": "execute_result",
          "data": {
            "text/plain": [
              "<matplotlib.axes._subplots.AxesSubplot at 0x7fed91cccb90>"
            ]
          },
          "metadata": {},
          "execution_count": 75
        },
        {
          "output_type": "display_data",
          "data": {
            "text/plain": [
              "<Figure size 432x288 with 1 Axes>"
            ],
            "image/png": "[encoded data removed]"
          },
          "metadata": {}
        }
      ]
    },
    {
      "cell_type": "markdown",
      "source": [
        "- Accidents lower on weekends comparatively to week days\n",
        "\n",
        "Question\n",
        "- Is the distribution of accidents by hours are same during weekends and weekdays?"
      ],
      "metadata": {
        "id": "XnRdoIeqeSxg"
      }
    },
    {
      "cell_type": "markdown",
      "source": [
        "Distribution of accidents by hours on Monday"
      ],
      "metadata": {
        "id": "haLjE1dQqA_Q"
      }
    },
    {
      "cell_type": "code",
      "source": [
        "monday_start_time = df.Start_Time[df.Start_Time.dt.dayofweek == 0]\n",
        "sns.distplot(monday_start_time.dt.hour, bins=24, kde=False, norm_hist=True)"
      ],
      "metadata": {
        "colab": {
          "base_uri": "https://localhost:8080/",
          "height": 297
        },
        "id": "tLMNC9jtYX79",
        "outputId": "378684de-e41d-40b5-e9a0-786ed1c1daef"
      },
      "execution_count": null,
      "outputs": [
        {
          "output_type": "execute_result",
          "data": {
            "text/plain": [
              "<matplotlib.axes._subplots.AxesSubplot at 0x7fed91b27b90>"
            ]
          },
          "metadata": {},
          "execution_count": 80
        },
        {
          "output_type": "display_data",
          "data": {
            "text/plain": [
              "<Figure size 432x288 with 1 Axes>"
            ],
            "image/png": "[encoded data removed]"
          },
          "metadata": {}
        }
      ]
    },
    {
      "cell_type": "markdown",
      "source": [
        "- On monday most of the accidents occured in between 1 to 6 PM\n",
        "- It's relatively very safe after midnight, with lowest no. of reported accidents"
      ],
      "metadata": {
        "id": "f0iZK-3hic1g"
      }
    },
    {
      "cell_type": "markdown",
      "source": [
        "Distribution of accidents by hours on Sunday"
      ],
      "metadata": {
        "id": "SlWcYW75qFQe"
      }
    },
    {
      "cell_type": "code",
      "source": [
        "sunday_start_time = df.Start_Time[df.Start_Time.dt.dayofweek == 6]\n",
        "sns.distplot(sunday_start_time.dt.hour, bins=24, kde=False, norm_hist=True)"
      ],
      "metadata": {
        "colab": {
          "base_uri": "https://localhost:8080/",
          "height": 297
        },
        "id": "HTm9hsbSYX-v",
        "outputId": "d1c7840f-e8e6-42fb-cce5-416c40a4fc52"
      },
      "execution_count": null,
      "outputs": [
        {
          "output_type": "execute_result",
          "data": {
            "text/plain": [
              "<matplotlib.axes._subplots.AxesSubplot at 0x7fed91a31b10>"
            ]
          },
          "metadata": {},
          "execution_count": 82
        },
        {
          "output_type": "display_data",
          "data": {
            "text/plain": [
              "<Figure size 432x288 with 1 Axes>"
            ],
            "image/png": "[encoded data removed]"
          },
          "metadata": {}
        }
      ]
    },
    {
      "cell_type": "markdown",
      "source": [
        "- During sunday the peak time of accident range from 2 PM to 6 PM\n",
        "- We see comparatively more number of accidents after midnight if we compare it to weekdays or mondays"
      ],
      "metadata": {
        "id": "C63co2-Cg6yJ"
      }
    },
    {
      "cell_type": "markdown",
      "source": [
        "Distribution of accidents by hours on Saturday"
      ],
      "metadata": {
        "id": "XmaiwdFxqHEp"
      }
    },
    {
      "cell_type": "code",
      "source": [
        "saturday_start_time = df.Start_Time[df.Start_Time.dt.dayofweek == 5]\n",
        "sns.distplot(saturday_start_time.dt.hour, bins=24, kde=False, norm_hist=True)"
      ],
      "metadata": {
        "id": "iFLMF2UnYYCI",
        "colab": {
          "base_uri": "https://localhost:8080/",
          "height": 297
        },
        "outputId": "7d22010f-665d-4425-a717-185074f2580e"
      },
      "execution_count": 83,
      "outputs": [
        {
          "output_type": "execute_result",
          "data": {
            "text/plain": [
              "<matplotlib.axes._subplots.AxesSubplot at 0x7fed919bab50>"
            ]
          },
          "metadata": {},
          "execution_count": 83
        },
        {
          "output_type": "display_data",
          "data": {
            "text/plain": [
              "<Figure size 432x288 with 1 Axes>"
            ],
            "image/png": "[encoded data removed]"
          },
          "metadata": {}
        }
      ]
    },
    {
      "cell_type": "markdown",
      "source": [
        "- Almost same distribution of accidents during saturday and sunday"
      ],
      "metadata": {
        "id": "R-w1geiZjz_p"
      }
    },
    {
      "cell_type": "markdown",
      "source": [
        "Checking frequency of accidents month wise(2021)"
      ],
      "metadata": {
        "id": "Rsj7o9_qnOwQ"
      }
    },
    {
      "cell_type": "code",
      "source": [
        "df_2021 = df[df.Start_Time.dt.year == 2021]\n",
        "sns.distplot(df_2021.Start_Time.dt.month, bins=12, kde=False, norm_hist=True)"
      ],
      "metadata": {
        "colab": {
          "base_uri": "https://localhost:8080/",
          "height": 355
        },
        "id": "kwW8dYfWjznQ",
        "outputId": "f37f2db0-b891-437e-c0bd-0ce904c972b9"
      },
      "execution_count": 104,
      "outputs": [
        {
          "output_type": "stream",
          "name": "stderr",
          "text": [
            "/usr/local/lib/python3.7/dist-packages/seaborn/distributions.py:2619: FutureWarning: `distplot` is a deprecated function and will be removed in a future version. Please adapt your code to use either `displot` (a figure-level function with similar flexibility) or `histplot` (an axes-level function for histograms).\n",
            "  warnings.warn(msg, FutureWarning)\n"
          ]
        },
        {
          "output_type": "execute_result",
          "data": {
            "text/plain": [
              "<matplotlib.axes._subplots.AxesSubplot at 0x7fed91366650>"
            ]
          },
          "metadata": {},
          "execution_count": 104
        },
        {
          "output_type": "display_data",
          "data": {
            "text/plain": [
              "<Figure size 432x288 with 1 Axes>"
            ],
            "image/png": "[encoded data removed]"
          },
          "metadata": {}
        }
      ]
    },
    {
      "cell_type": "code",
      "source": [
        "df_2019 = df[df.Start_Time.dt.year == 2019]\n",
        "sns.distplot(df_2019.Start_Time.dt.month, bins=12, kde=False, norm_hist=True)"
      ],
      "metadata": {
        "colab": {
          "base_uri": "https://localhost:8080/",
          "height": 352
        },
        "id": "MiyKJCjjjzdL",
        "outputId": "3e9a9caa-8d85-4d09-c887-97398f0525cc"
      },
      "execution_count": 98,
      "outputs": [
        {
          "output_type": "stream",
          "name": "stderr",
          "text": [
            "/usr/local/lib/python3.7/dist-packages/seaborn/distributions.py:2619: FutureWarning: `distplot` is a deprecated function and will be removed in a future version. Please adapt your code to use either `displot` (a figure-level function with similar flexibility) or `histplot` (an axes-level function for histograms).\n",
            "  warnings.warn(msg, FutureWarning)\n"
          ]
        },
        {
          "output_type": "execute_result",
          "data": {
            "text/plain": [
              "<matplotlib.axes._subplots.AxesSubplot at 0x7fed9a226d10>"
            ]
          },
          "metadata": {},
          "execution_count": 98
        },
        {
          "output_type": "display_data",
          "data": {
            "text/plain": [
              "<Figure size 432x288 with 1 Axes>"
            ],
            "image/png": "[encoded data removed]"
          },
          "metadata": {}
        }
      ]
    },
    {
      "cell_type": "markdown",
      "source": [
        "- Accidents seems comparatively higher on Decemeber(Festive time, winter)\n",
        "- Many people might be travelling across countries, places for vacations"
      ],
      "metadata": {
        "id": "qsMV-90_uFJ2"
      }
    },
    {
      "cell_type": "markdown",
      "source": [
        "## Start Latitude and Longitude"
      ],
      "metadata": {
        "id": "FZn1jT7juSS7"
      }
    },
    {
      "cell_type": "code",
      "source": [
        "df.Start_Lat"
      ],
      "metadata": {
        "colab": {
          "base_uri": "https://localhost:8080/"
        },
        "id": "cSAsCygrtsG-",
        "outputId": "8236b87d-d61c-417f-e214-6d01334d4af6"
      },
      "execution_count": 110,
      "outputs": [
        {
          "output_type": "execute_result",
          "data": {
            "text/plain": [
              "0          40.108910\n",
              "1          39.865420\n",
              "2          39.102660\n",
              "3          41.062130\n",
              "4          39.172393\n",
              "             ...    \n",
              "2845337    34.002480\n",
              "2845338    32.766960\n",
              "2845339    33.775450\n",
              "2845340    33.992460\n",
              "2845341    34.133930\n",
              "Name: Start_Lat, Length: 2845342, dtype: float64"
            ]
          },
          "metadata": {},
          "execution_count": 110
        }
      ]
    },
    {
      "cell_type": "code",
      "source": [
        "df.Start_Lng"
      ],
      "metadata": {
        "colab": {
          "base_uri": "https://localhost:8080/"
        },
        "id": "mow06XrotsNz",
        "outputId": "54466aa6-7195-4772-8f60-9dec84918e41"
      },
      "execution_count": 111,
      "outputs": [
        {
          "output_type": "execute_result",
          "data": {
            "text/plain": [
              "0          -83.092860\n",
              "1          -84.062800\n",
              "2          -84.524680\n",
              "3          -81.537840\n",
              "4          -84.492792\n",
              "              ...    \n",
              "2845337   -117.379360\n",
              "2845338   -117.148060\n",
              "2845339   -117.847790\n",
              "2845340   -118.403020\n",
              "2845341   -117.230920\n",
              "Name: Start_Lng, Length: 2845342, dtype: float64"
            ]
          },
          "metadata": {},
          "execution_count": 111
        }
      ]
    },
    {
      "cell_type": "markdown",
      "source": [
        "Getting Lattitude and longitute as a list and turned them into pairs"
      ],
      "metadata": {
        "id": "Wzr27VF9wKqP"
      }
    },
    {
      "cell_type": "code",
      "source": [
        "zip(list(df.Start_Lat), list(df.Start_Lng))"
      ],
      "metadata": {
        "colab": {
          "base_uri": "https://localhost:8080/"
        },
        "id": "cP1wRoJnzxjV",
        "outputId": "e06416cc-2532-4d86-85c9-714cc08069a7"
      },
      "execution_count": 125,
      "outputs": [
        {
          "output_type": "execute_result",
          "data": {
            "text/plain": [
              "<zip at 0x7fed6b2e1320>"
            ]
          },
          "metadata": {},
          "execution_count": 125
        }
      ]
    },
    {
      "cell_type": "code",
      "source": [
        "import folium"
      ],
      "metadata": {
        "id": "dwlZ73S8tsWZ"
      },
      "execution_count": 117,
      "outputs": []
    },
    {
      "cell_type": "code",
      "source": [
        "from folium.plugins import HeatMap"
      ],
      "metadata": {
        "id": "pCodeZ0U04Gt"
      },
      "execution_count": 126,
      "outputs": []
    },
    {
      "cell_type": "code",
      "source": [
        "sample_df = df.sample(int(0.001 * len(df)))\n",
        "lat_lon_pairs = list(zip(list(sample_df.Start_Lat), list(sample_df.Start_Lng)))"
      ],
      "metadata": {
        "id": "AtBUQpO-2bDN"
      },
      "execution_count": 141,
      "outputs": []
    },
    {
      "cell_type": "code",
      "source": [
        "map = folium.Map()\n",
        "HeatMap(lat_lon_pairs).add_to(map)\n",
        "map"
      ],
      "metadata": {
        "colab": {
          "base_uri": "https://localhost:8080/",
          "height": 866
        },
        "id": "Xam8TYkqw-ZH",
        "outputId": "b7c0dc7b-0d04-47ae-89ee-f52fb9b06f25"
      },
      "execution_count": 147,
      "outputs": [
        {
          "output_type": "execute_result",
          "data": {
            "text/plain": [
              "<folium.folium.Map at 0x7fed8f9e06d0>"
            ],
            "text/html": [
              "<div style=\"width:100%;\"><div style=\"position:relative;width:100%;height:0;padding-bottom:60%;\"><span style=\"color:#565656\">Make this Notebook Trusted to load map: File -> Trust Notebook</span><iframe srcdoc=\"&lt;!DOCTYPE html&gt;\n",
              "&lt;head&gt;    \n",
              "    &lt;meta http-equiv=&quot;content-type&quot; content=&quot;text/html; charset=UTF-8&quot; /&gt;\n",
              "    \n",
              "        &lt;script&gt;\n",
              "            L_NO_TOUCH = false;\n",
              "            L_DISABLE_3D = false;\n",
              "        &lt;/script&gt;\n",
              "    \n",
              "    &lt;style&gt;html, body {width: 100%;height: 100%;margin: 0;padding: 0;}&lt;/style&gt;\n",
              "    &lt;style&gt;#map {position:absolute;top:0;bottom:0;right:0;left:0;}&lt;/style&gt;\n",
              "    &lt;script src=&quot;https://cdn.jsdelivr.net/npm/leaflet@1.6.0/dist/leaflet.js&quot;&gt;&lt;/script&gt;\n",
              "    &lt;script src=&quot;https://code.jquery.com/jquery-1.12.4.min.js&quot;&gt;&lt;/script&gt;\n",
              "    &lt;script src=&quot;https://maxcdn.bootstrapcdn.com/bootstrap/3.2.0/js/bootstrap.min.js&quot;&gt;&lt;/script&gt;\n",
              "    &lt;script src=&quot;https://cdnjs.cloudflare.com/ajax/libs/Leaflet.awesome-markers/2.0.2/leaflet.awesome-markers.js&quot;&gt;&lt;/script&gt;\n",
              "    &lt;link rel=&quot;stylesheet&quot; href=&quot;https://cdn.jsdelivr.net/npm/leaflet@1.6.0/dist/leaflet.css&quot;/&gt;\n",
              "    &lt;link rel=&quot;stylesheet&quot; href=&quot;https://maxcdn.bootstrapcdn.com/bootstrap/3.2.0/css/bootstrap.min.css&quot;/&gt;\n",
              "    &lt;link rel=&quot;stylesheet&quot; href=&quot;https://maxcdn.bootstrapcdn.com/bootstrap/3.2.0/css/bootstrap-theme.min.css&quot;/&gt;\n",
              "    &lt;link rel=&quot;stylesheet&quot; href=&quot;https://maxcdn.bootstrapcdn.com/font-awesome/4.6.3/css/font-awesome.min.css&quot;/&gt;\n",
              "    &lt;link rel=&quot;stylesheet&quot; href=&quot;https://cdnjs.cloudflare.com/ajax/libs/Leaflet.awesome-markers/2.0.2/leaflet.awesome-markers.css&quot;/&gt;\n",
              "    &lt;link rel=&quot;stylesheet&quot; href=&quot;https://cdn.jsdelivr.net/gh/python-visualization/folium/folium/templates/leaflet.awesome.rotate.min.css&quot;/&gt;\n",
              "    \n",
              "            &lt;meta name=&quot;viewport&quot; content=&quot;width=device-width,\n",
              "                initial-scale=1.0, maximum-scale=1.0, user-scalable=no&quot; /&gt;\n",
              "            &lt;style&gt;\n",
              "                #map_2dfccf423cde430ff1e561d78872c0ff {\n",
              "                    position: relative;\n",
              "                    width: 100.0%;\n",
              "                    height: 100.0%;\n",
              "                    left: 0.0%;\n",
              "                    top: 0.0%;\n",
              "                }\n",
              "            &lt;/style&gt;\n",
              "        \n",
              "    &lt;script src=&quot;https://cdn.jsdelivr.net/gh/python-visualization/folium@master/folium/templates/leaflet_heat.min.js&quot;&gt;&lt;/script&gt;\n",
              "&lt;/head&gt;\n",
              "&lt;body&gt;    \n",
              "    \n",
              "            &lt;div class=&quot;folium-map&quot; id=&quot;map_2dfccf423cde430ff1e561d78872c0ff&quot; &gt;&lt;/div&gt;\n",
              "        \n",
              "&lt;/body&gt;\n",
              "&lt;script&gt;    \n",
              "    \n",
              "            var map_2dfccf423cde430ff1e561d78872c0ff = L.map(\n",
              "                &quot;map_2dfccf423cde430ff1e561d78872c0ff&quot;,\n",
              "                {\n",
              "                    center: [0, 0],\n",
              "                    crs: L.CRS.EPSG3857,\n",
              "                    zoom: 1,\n",
              "                    zoomControl: true,\n",
              "                    preferCanvas: false,\n",
              "                }\n",
              "            );\n",
              "\n",
              "            \n",
              "\n",
              "        \n",
              "    \n",
              "            var tile_layer_cdf2fbc74872b2dc3418bc429535cd9d = L.tileLayer(\n",
              "                &quot;https://{s}.tile.openstreetmap.org/{z}/{x}/{y}.png&quot;,\n",
              "                {&quot;attribution&quot;: &quot;Data by \\u0026copy; \\u003ca href=\\&quot;http://openstreetmap.org\\&quot;\\u003eOpenStreetMap\\u003c/a\\u003e, under \\u003ca href=\\&quot;http://www.openstreetmap.org/copyright\\&quot;\\u003eODbL\\u003c/a\\u003e.&quot;, &quot;detectRetina&quot;: false, &quot;maxNativeZoom&quot;: 18, &quot;maxZoom&quot;: 18, &quot;minZoom&quot;: 0, &quot;noWrap&quot;: false, &quot;opacity&quot;: 1, &quot;subdomains&quot;: &quot;abc&quot;, &quot;tms&quot;: false}\n",
              "            ).addTo(map_2dfccf423cde430ff1e561d78872c0ff);\n",
              "        \n",
              "    \n",
              "            var heat_map_25b364b1b536a290efeaf3b301dc3937 = L.heatLayer(\n",
              "                [[33.82818, -84.48708], [38.946626, -120.096546], [36.6625, -121.623889], [37.528306, -121.945698], [39.49488, -74.66035], [34.142011, -118.019194], [39.334324, -121.671619], [37.127986, -121.976076], [41.51880900000001, -73.985303], [41.87036, -87.64508000000002], [37.118623, -81.122509], [43.670561, -120.231985], [42.3554, -83.07425], [37.116676, -76.46336600000002], [34.373313, -83.263696], [30.913585, -83.364032], [37.002994, -121.55655], [37.453026, -122.181752], [42.349479, -87.871977], [43.71537, -123.21491], [43.777665, -117.813239], [32.78425, -97.32066], [42.653121, -123.37855], [34.544793, -92.631222], [32.886353, -96.984468], [32.701716999999995, -96.82488], [28.238854, -82.693795], [33.447238, -81.892083], [40.117578, -75.35072199999998], [47.185581, -122.463837], [30.423706, -86.60940699999998], [45.766693, -92.988291], [34.017169, -118.175374], [38.630631, -121.217583], [42.73096500000001, -73.698784], [47.669353, -114.106999], [36.06602, -115.18918], [32.780209, -96.797693], [40.028859, -75.106004], [34.150474, -118.687232], [32.962557000000004, -96.916118], [45.56262, -122.17245], [37.733063, -121.628895], [40.490082, -76.228746], [42.817662, -84.52671600000002], [32.893359999999994, -117.21233], [33.232979, -84.23113000000002], [44.01017, -123.02177], [34.018087, -118.279542], [42.33413, -123.30019], [38.813489, -121.543561], [28.08461, -82.50506999999998], [37.1901, -77.48865], [30.230901, -97.742757], [26.723738, -80.091286], [34.035540000000005, -81.11487], [42.18358, -77.145162], [40.287328, -77.00359499999998], [42.298511, -83.763145], [38.957487, -76.905552], [28.4054, -80.70228], [35.005723, -85.278968], [39.312096, -119.824608], [47.835054, -122.261025], [27.127443, -80.32901600000002], [28.427688, -81.375813], [25.687184, -80.384491], [40.594908, -75.573747], [38.760749, -90.513097], [47.67698, -122.320416], [33.503741, -117.152935], [29.66346, -95.38519], [44.984217, -122.993391], [34.14086, -118.22784], [45.515398, -122.565304], [30.411968, -86.732958], [26.118871, -80.330037], [41.013207, -111.914546], [26.521135, -80.072811], [38.943072, -78.465847], [30.191085, -97.772331], [42.107749, -73.894378], [35.89022, -78.84798], [40.58431, -73.96205], [25.85225, -80.20814], [34.065974, -118.215433], [35.793124, -80.22134100000002], [35.162882, -80.876029], [42.760656, -73.756668], [45.132656, -93.235055], [25.889347, -80.186409], [25.871676, -80.323287], [34.190977000000004, -80.682468], [34.818698, -82.2768], [37.091892, -79.738694], [34.066721, -117.206851], [37.875397, -122.510092], [33.873732000000004, -118.257332], [38.653407, -121.53198700000002], [25.670988, -80.413044], [41.57791, -87.54202], [39.960044, -75.33789399999998], [42.931267, -73.48268399999998], [37.128444, -93.461534], [28.5656, -81.195948], [37.510857, -77.424977], [28.06943, -82.30241], [43.99312000000001, -95.80556], [45.538855, -118.45816200000002], [38.404287, -121.912912], [35.154497, -80.79493000000002], [41.272276, -73.119817], [38.220405, -122.257507], [33.833499, -118.290282], [34.862864, -82.248623], [33.698233, -84.084216], [38.516666, -121.455374], [39.788481, -104.98941299999998], [33.966584000000005, -81.009127], [32.920764, -96.849902], [36.263432, -86.71552], [33.908323, -81.220375], [44.777654, -117.810297], [47.75879000000001, -122.32735], [44.9517, -95.717112], [34.086403000000004, -118.21278], [34.171243, -118.518511], [40.91735, -111.89111], [30.20535, -97.71666], [44.93359, -122.99041], [39.181848, -76.784144], [45.52272, -122.66545], [40.138324, -76.205989], [34.154337, -118.157283], [44.91615, -92.9796], [42.480101, -88.096237], [28.534556, -81.47570999999998], [41.248338, -73.006466], [40.622282, -124.212943], [34.732706, -79.663276], [36.982673, -121.961771], [36.222241, -86.756121], [26.522195, -81.869685], [43.950501, -122.888607], [41.757127, -72.44031899999997], [36.164435, -95.940259], [37.926777, -121.294672], [37.742854, -122.198213], [38.303586, -78.929568], [34.07163, -118.11023], [32.503298, -111.26761], [39.429601, -77.998103], [30.985661, -87.704812], [33.721809, -84.948705], [44.06765, -121.30253], [34.502024, -82.686188], [38.736064, -77.76859300000002], [40.057812, -75.270595], [37.548061, -122.291318], [34.050493, -117.998049], [38.757324, -120.589451], [38.581742, -90.223749], [39.39882, -76.55215], [41.66671, -71.49821999999998], [41.68066, -72.65335999999998], [40.26717, -78.47770899999998], [35.30534799999999, -80.857281], [40.041012, -75.251373], [25.650785, -80.331704], [33.556977, -113.275641], [25.885372, -80.21074499999997], [26.17427, -80.31309], [33.289625, -87.570205], [36.982997, -94.432076], [34.06882, -117.35705], [39.885439, -104.98767], [32.745707, -96.917959], [39.605314, -77.728987], [43.041707, -87.92498], [34.033846999999994, -118.385641], [35.848411, -78.580247], [34.00354, -117.93046499999998], [29.938138, -90.079706], [40.967492, -76.87619699999998], [32.729690000000005, -113.730468], [47.342478, -122.607421], [28.597574, -81.296796], [40.546534, -78.47703299999998], [32.840887, -117.134849], [33.937744, -118.326423], [41.183657, -111.94912], [35.37237000000001, -80.71077], [35.015455, -81.90122], [38.252853, -77.162562], [36.946542, -76.404465], [29.61473, -82.34088], [26.083272, -80.179304], [25.92446, -80.154219], [34.06408, -118.01009], [47.13453, -122.52992], [32.90348400000001, -96.8976], [41.24195, -76.996004], [34.534509, -117.120874], [37.579289, -77.467939], [34.377563, -119.480018], [26.11696, -80.16858], [40.51092, -74.38513], [33.854009000000005, -117.941667], [33.089459999999995, -117.30164], [39.922118, -76.080598], [26.014923, -80.167252], [42.759099, -73.784485], [35.085171, -85.07118299999998], [37.375499, -120.50316399999998], [37.256293, -122.11598], [26.935, -82.01723], [36.406674, -119.062807], [25.890378, -80.184467], [45.82445, -118.446008], [40.75705, -74.20558], [32.704445, -117.11779], [44.948641, -92.928167], [30.138062, -81.773762], [34.125233, -118.228344], [37.920947, -122.317782], [44.21687, -92.65011], [33.915886, -118.079033], [37.618495, -120.98437], [41.34855, -74.230437], [29.44174000000001, -98.6395], [36.275836, -82.91758399999998], [39.105028, -94.712578], [40.710751, -73.981367], [34.056876, -112.14583], [33.522216, -80.793553], [37.873039, -76.809441], [33.461394, -112.07821], [34.581105, -82.720704], [36.06446500000001, -79.463161], [29.968799, -90.03035799999998], [32.724164, -96.826443], [34.07229, -117.93104], [37.419295, -120.762231], [25.811566, -80.370885], [38.697861, -121.020514], [27.968748, -82.400317], [42.66177, -84.2042], [45.508602, -122.778838], [36.18157, -86.749309], [34.24232, -118.41962], [28.452939, -81.400159], [40.6894, -73.62921], [37.387472, -121.9834], [41.05014600000001, -76.840728], [40.253702, -74.51576800000002], [38.005238, -121.257981], [39.410823, -74.54784699999998], [33.917048, -118.080146], [33.574218, -117.671984], [33.459423, -112.007601], [45.33189, -122.76912], [34.120455, -117.73167], [35.733374, -78.651382], [47.46757, -122.22462], [33.68885, -117.91797], [35.154518, -85.191048], [44.3127, -121.171613], [37.76877, -122.40656], [42.962383, -71.419933], [37.173324, -121.013234], [32.190995, -110.927169], [34.062745, -117.295351], [33.937434, -118.359135], [39.862054, -79.057024], [37.883533, -122.30864], [33.763675, -117.972506], [40.880841, -121.670483], [44.970369, -93.333616], [38.651498, -77.28213000000002], [32.671255, -96.97611], [33.940772, -117.231658], [45.541001, -122.69871299999998], [37.551215, -77.428067], [43.99076, -121.3361], [34.029792, -117.712334], [44.966023, -93.265651], [34.175255, -118.518525], [33.39314, -81.689021], [38.465498, -77.40797099999997], [46.398151, -95.121265], [34.074729, -118.219982], [42.0374, -88.03558000000002], [33.129261, -117.097231], [40.654817, -111.901854], [33.958642, -118.273977], [35.344903, -119.034502], [39.912611, -86.56865], [36.960271, -121.733175], [32.810149, -96.834932], [39.1617, -84.51467], [40.23226, -77.13001], [43.054268, -76.15703], [34.157239000000004, -118.449161], [39.22384, -84.36301], [33.03609, -117.281172], [40.50669, -111.89099], [35.889789, -78.562477], [34.144690000000004, -118.16824], [34.11199000000001, -118.26545], [33.520507, -117.665832], [36.829587, -76.067195], [26.493582, -81.976979], [34.072520000000004, -117.93608], [35.262886, -118.912223], [32.67569, -97.01126], [36.74786, -119.82289], [37.648901, -77.598066], [42.02945, -87.86537], [37.611918, -77.520267], [29.681091, -95.488386], [30.419891, -91.141016], [33.384608, -117.248626], [40.130749, -74.705191], [34.026872, -117.927218], [36.198802, -121.14561], [40.98628, -73.68349], [38.493133, -122.895428], [40.805044, -73.911302], [33.945334, -118.368279], [37.70078, -122.02652], [37.361047, -121.837989], [42.9854, -85.657158], [32.760082000000004, -117.172397], [40.4358, -75.42453], [40.843221, -73.89189300000002], [40.238299, -75.229495], [35.005998, -117.634595], [34.18248, -118.39767], [30.456515000000003, -91.179985], [47.026087, -122.927902], [33.112331, -117.09708], [33.69905, -84.26988], [36.04433, -86.65701999999996], [34.66505, -118.76172], [38.245522, -122.442085], [33.031201, -80.941084], [41.48653, -112.01574], [45.766693, -92.988291], [39.627767, -75.743811], [38.255889, -77.284472], [44.439268, -117.324108], [38.157452, -121.261614], [33.715628, -78.940965], [30.385037, -87.098298], [27.841277, -82.762279], [37.22184, -120.371156], [38.860348, -121.300123], [44.971343, -93.251942], [26.226135, -80.29663599999998], [41.288285, -72.819544], [34.04998, -118.22256000000002], [34.126313, -117.201837], [36.170264, -86.596909], [33.540695, -112.11243600000002], [36.554612, -87.246555], [44.46335, -92.56662], [33.880553000000006, -117.569913], [41.53043, -122.276298], [34.067384000000004, -117.567625], [26.00348, -80.21613], [30.449775, -91.138962], [37.018142, -76.383873], [33.69834, -84.445198], [40.586761, -74.279119], [37.605149, -122.065392], [40.77473, -73.99221899999998], [36.33482, -94.174448], [38.083044, -122.541235], [37.77956, -122.17062], [42.49641, -83.35094000000002], [33.971647, -117.549022], [25.882822, -80.24470500000002], [38.096229, -104.689871], [43.6338, -116.246241], [44.065933, -121.30252], [39.216416, -77.654075], [28.559444, -81.415022], [37.776187, -122.393977], [25.713441, -80.448213], [30.193916, -81.556609], [33.88861, -118.35795], [37.70218, -121.76653], [39.15238, -84.44357], [38.039722, -79.079533], [44.16274, -94.007252], [33.008154, -117.261961], [37.405604, -122.069703], [34.068892, -117.84261399999998], [40.466648, -122.306123], [29.427197, -98.500758], [46.619667, -92.326591], [41.57458, -87.51531], [29.77743, -95.410539], [25.686308, -80.41669], [42.31733, -122.8572], [34.150549, -117.335444], [32.747812, -117.108654], [40.196241, -79.68510400000002], [44.062351, -123.049359], [42.560187, -78.711344], [37.424204, -122.09704], [32.186467, -110.832352], [42.87905, -121.83106], [32.318674, -95.287521], [33.870228000000004, -117.669681], [41.12509, -85.214864], [43.490266, -124.220267], [40.64105, -111.90326], [37.133113, -121.98121100000002], [28.209213, -82.35331], [44.863454, -93.349982], [34.185601, -118.473805], [28.06922800000001, -82.456058], [34.272086, -118.35298600000002], [33.92845, -118.24418], [43.21206, -70.78909], [40.844731, -73.92514399999997], [36.972633, -121.879439], [45.211176, -112.581322], [34.095732, -117.899025], [33.709734000000005, -117.78173], [29.930898, -90.070821], [34.03029, -117.65586], [43.965665, -123.011716], [36.976088, -122.032593], [44.861952, -93.151005], [38.536665, -121.42245], [39.24948300000001, -78.369415], [39.265791, -76.563817], [41.8373, -71.41614], [33.265646000000004, -87.602952], [37.943599, -122.480466], [40.259989, -74.845036], [34.00949, -81.15304], [40.20454, -83.18906], [38.021086, -121.260675], [37.914086, -122.512074], [38.495984, -121.409102], [34.42727, -118.41935], [27.298704, -82.47162800000002], [35.053384, -81.793561], [33.224992, -97.172402], [35.69459000000001, -78.57434], [36.060891, -95.989145], [40.49407, -77.1032], [29.228052, -82.18607800000002], [30.015497, -82.355541], [25.696245, -80.30524399999999], [27.388202000000003, -82.47063299999998], [25.967728, -80.32826999999997], [34.120255, -117.736374], [34.319583, -113.134042], [25.847456, -80.32219], [44.898447, -93.24731], [40.41497800000001, -120.725815], [29.87661, -95.56279], [33.963881, -84.103773], [38.820542, -77.46464499999998], [34.84599, -85.01730699999997], [42.933483, -85.680784], [38.56494, -121.497448], [38.277878, -77.21115], [34.11768, -117.84632], [28.192652, -82.384986], [27.9935, -80.62675], [34.033537, -81.088266], [44.212733, -92.645904], [33.856840000000005, -118.284809], [28.613740000000004, -81.47619], [26.568192, -80.069807], [27.712631, -82.33133199999997], [40.35082, -76.7288], [39.353308, -77.3938], [32.946026, -97.022906], [26.43959000000001, -80.08324], [35.084718, -85.184287], [38.916975, -77.046076], [40.158923, -120.327104], [38.925708, -104.719694], [39.64233, -78.79603], [38.563469, -121.638737], [32.35883, -111.08962], [27.777556, -82.647716], [37.107642, -77.35946700000002], [43.297113, -78.909673], [34.26125, -114.156175], [33.734586, -117.816548], [38.577995, -121.507371], [43.01885, -78.18229000000002], [34.082366, -117.54495], [45.871556, -113.226867], [32.720323, -96.855618], [33.784542, -117.83117], [33.97475900000001, -118.251454], [38.880544, -77.23670200000002], [33.461871, -112.078086], [33.389696, -111.96754], [40.77154, -111.88922], [35.78645, -78.69803], [37.05817, -81.13194200000002], [33.99198, -118.141642], [34.017255, -79.540578], [43.17511, -77.6076], [27.785515000000004, -82.35848299999998], [29.5077, -98.543876], [25.850037, -80.231659], [34.131846, -118.350366], [36.953206, -121.76489], [38.531944, -77.358845], [40.549595, -122.434776], [38.604637, -121.507233], [37.741069, -121.510268], [38.62399, -121.41776000000002], [28.486974, -82.603186], [44.09789, -123.16098999999998], [33.928895000000004, -118.28903400000002], [38.478197, -121.420751], [48.04384, -122.18082], [39.674918, -76.92976999999998], [36.345165, -84.230664], [38.524936, -121.46217], [33.76774, -84.5322], [42.42923, -87.972365], [29.697101, -95.334011], [41.942899, -122.586979], [40.0036, -82.98443], [39.78566, -105.0832], [26.12789, -80.16954], [40.755747, -74.199675], [38.192385, -121.406714], [40.860031, -73.915253], [41.80275, -71.40383], [36.543689, -119.286855], [39.827221, -75.40369100000002], [41.3609, -72.03159000000002], [28.441416, -81.470337], [32.79415, -96.81478], [38.922701, -76.991427], [35.35849, -80.84306], [30.658578, -88.125265], [25.764612, -80.32539399999997], [33.890206, -98.507505], [29.843142, -95.384351], [38.673888, -121.723994], [30.334786, -97.748776], [34.19631, -119.069741], [38.92481, -77.10712], [41.649401, -93.626546], [34.753902000000004, -92.398084], [34.073807, -117.752763], [26.550690000000003, -80.070009], [45.541393, -122.477384], [35.84305900000001, -78.636154], [25.899583, -80.183492], [27.809029, -82.753272], [36.326326, -119.390026], [35.089462, -120.537432], [38.916844, -77.009085], [33.66406, -117.80077], [39.056804, -120.799745], [37.771843, -122.423304], [38.228024, -122.119424], [34.070946, -118.145631], [30.01386, -90.01342], [33.62981, -113.76143], [37.787349, -122.247952], [34.03665, -118.16132], [25.710571, -80.281858], [32.871083, -117.195957], [44.85937, -93.35714], [32.861740000000005, -96.65757], [41.117539, -78.924038], [38.80084, -76.910147], [33.929203, -117.416456], [42.383419, -83.149026], [47.48469, -92.53095], [40.705959, -73.464275], [25.953918, -80.281375], [39.76322, -84.09226], [47.90703, -122.21092], [28.62197, -81.38625], [36.721973, -119.789118], [44.81925, -68.77490999999999], [40.736105, -73.42325100000002], [40.72668, -73.63450999999998], [31.777308, -106.425494], [34.184733, -81.042419], [34.055206, -118.239716], [36.884011, -120.796941], [38.768947, -90.5292], [36.834323, -76.142977], [28.554491, -81.379205], [25.947379, -80.149636], [44.943647, -93.07763], [25.89198, -80.124228], [44.948254, -92.941664], [34.135712, -117.375], [40.313462, -111.257075], [35.841651, -78.572905], [25.543877, -80.42099], [41.347396, -75.338711], [39.74579, -122.014727], [37.21752, -112.97445], [37.829495, -122.003715], [34.021514, -118.162612], [33.72381, -117.976437], [40.615049, -75.477758], [33.44545, -84.69015999999998], [40.73762, -73.97433000000002], [33.878598, -118.192519], [45.09037100000001, -95.042907], [37.864803, -122.296642], [33.299223, -117.159373], [34.24689, -118.4249], [28.205718, -82.694292], [39.273341, -76.502937], [27.178019, -82.435301], [41.73257, -74.06602], [33.954253, -117.304925], [39.99624, -104.98279], [40.932799, -124.100841], [37.890128, -122.071403], [34.067348, -117.430726], [32.73294, -86.54037], [33.46147, -112.28829], [33.739663, -117.989522], [28.194646, -82.465234], [44.89791, -93.1332], [34.308658, -81.045425], [25.771, -80.336548], [38.607512, -121.410875], [34.103761, -117.983497], [39.211481, -76.65095600000002], [41.65727, -72.77266], [27.357101, -82.268506], [36.41514, -84.28134], [39.99512, -84.00062], [36.87645, -76.19488], [40.678674, -102.960333], [38.03712700000001, -78.464349], [43.02209000000001, -123.2994], [40.72588, -73.51453000000002], [38.361341, -122.712884], [33.733191999999995, -117.415866], [27.893490000000003, -82.5184], [33.581619, -86.706962], [35.457164, -94.327037], [42.83739, -123.25427], [37.302549, -121.980155], [35.83471, -78.64023], [30.38297, -91.075022], [38.648655, -121.373293], [26.715319, -80.08525999999998], [37.638275, -120.90117], [46.053839, -93.936764], [34.117683, -80.88167800000002], [38.4812, -121.505162], [45.28833, -122.94648], [26.00714, -80.16666], [25.625831, -80.382198], [48.777883, -122.47073799999998], [25.816501, -80.24060300000002], [37.411931, -120.915132], [45.15324, -122.87871], [38.938901, -76.91454499999998], [28.523215000000004, -81.309322], [37.76266, -121.43995], [32.80296, -116.94013], [33.149429999999995, -117.198702], [29.999187, -90.184397], [42.332643, -88.02905], [43.26102, -86.20599], [38.541203, -121.473328], [35.841619, -78.683635], [32.493234, -97.284697], [35.200042, -80.76521899999999], [33.87061, -118.1005], [34.822606, -82.228714], [34.08918, -118.237232], [38.944318, -121.097889], [34.078886, -84.647994], [37.921918, -122.348846], [33.137446000000004, -117.17506000000002], [44.922531, -93.274947], [36.850193, -80.86161899999998], [32.71886, -97.32067], [30.574790000000004, -81.645809], [38.580955, -121.304139], [32.803189, -117.216735], [41.78104, -87.63061], [37.506463, -77.583801], [36.772197, -76.27481], [33.5058, -82.550057], [35.09619, -81.036812], [33.614553, -117.707229], [37.81053, -122.36464], [33.601244, -86.650725], [34.148461, -118.469244], [36.78652, -80.83296999999997], [26.582367, -80.173215], [39.957221, -75.145937], [38.63889, -121.277966], [39.14218, -121.745244], [25.912714, -80.17946500000002], [25.747968, -80.306001], [38.481577, -121.371793], [34.221388, -118.47521100000002], [40.73863, -73.84767], [36.79766, -76.38136], [28.181538, -82.723512], [39.284909000000006, -77.327474], [35.130237, -80.944265], [33.726448, -80.929339], [39.2653, -84.43965], [39.265067, -94.446637], [33.989074, -117.889274], [37.63155, -122.08778999999998], [27.429098, -82.524962], [38.998165, -77.948624], [43.180346, -124.201078], [37.021345, -77.39223], [40.82595, -74.02651], [41.05199, -111.96042], [39.768137, -75.048951], [38.979282, -77.091661], [37.36698, -121.901196], [30.11905, -97.804487], [44.636433, -92.99449], [33.944636, -117.672341], [41.17394, -79.74401], [45.36399, -122.60608], [39.027761, -76.951128], [38.24087, -121.548631], [45.316511, -94.670873], [37.799116, -122.220786], [40.171154, -85.073136], [34.175458, -118.858671], [33.56756, -112.1343], [30.552009, -91.725036], [40.742022, -73.83930699999998], [41.438773, -122.432379], [34.008255, -117.422156], [37.834718, -122.294693], [47.589953, -122.267531], [32.77561, -117.00812], [38.93934, -76.062637], [44.85984000000001, -93.24747], [41.72072, -88.03375], [35.76639, -78.73574], [34.783182000000004, -82.576868], [39.754232, -77.728239], [28.49685, -80.834709], [40.34494, -75.95249], [44.94716, -93.400064], [34.720002, -83.054535], [45.783923, -122.672814], [40.909357, -77.04582099999998], [41.765996, -72.660409], [35.55697, -97.51347], [46.387884, -112.72185], [36.606763, -119.662889], [25.702474, -80.33150699999999], [32.83863, -97.18849], [38.568583, -121.331305], [38.860254, -77.219886], [28.193038, -80.70782], [40.491217, -89.02870899999998], [33.180547999999995, -87.525627], [38.91243, -77.22119], [41.750031, -72.714225], [45.550121, -94.329997], [34.03038, -117.68486], [41.12748, -75.343025], [33.77565, -118.27986], [36.815499, -119.831893], [33.866931, -117.723573], [29.973841, -90.04764200000002], [34.173528000000005, -118.556479], [36.169835, -86.76355500000004], [25.823955, -80.239661], [37.34112800000001, -77.42468000000002], [37.144013, -80.34806999999998], [34.019672, -118.173498], [41.302861, -95.95654], [27.20207000000001, -82.440139], [33.73602, -117.99428], [45.015365, -123.976639], [38.17263, -122.135802], [41.817252, -71.39884599999998], [33.89359, -118.04705], [39.77506, -104.85718], [34.144314, -81.234573], [35.842775, -78.680237], [37.759311, -122.209496], [46.41434, -114.166283], [25.748089, -80.30828299999997], [34.350224, -118.504081], [44.468707, -117.33588], [33.83363, -117.83535], [45.015383, -93.08985], [39.01536, -77.12218], [32.91996, -83.7117], [25.687938, -80.41644000000002], [37.232128, -119.74247], [25.955054, -80.243183], [30.414249, -91.109577], [28.45162, -81.175473], [40.752996, -73.85199899999998], [30.582225, -84.4435], [33.941238, -117.270551], [45.1386, -93.29066], [41.597022, -122.340261], [35.174249, -80.886586], [44.774164, -93.311507], [39.365065, -77.387628], [37.576067, -78.347418], [38.456293, -121.407524], [44.53867, -117.414354], [32.90724, -96.99538], [38.20293, -81.370999], [40.331382, -111.26084], [41.66510200000001, -72.846897], [28.98468, -81.978998], [30.036706, -89.933756], [36.401213, -119.636929], [41.56481, -73.05792], [41.261926, -72.986698], [25.731567, -80.389359], [38.610638, -121.401529], [34.106614, -117.863795], [36.134272, -86.77556700000002], [37.39657, -121.874545], [41.59209600000001, -93.776652], [37.830694, -121.28863], [34.376059000000005, -119.473732], [41.44695, -81.74463], [38.39708, -121.006184], [41.283649, -72.950624], [37.005194, -77.046049], [39.26838, -84.35344], [29.97278, -90.06571], [33.46216, -112.0236], [33.876546000000005, -112.146624], [34.336083, -117.521533], [37.687428, -118.941918], [32.66472, -96.90603], [34.011823, -118.28127], [39.375911, -76.452924], [29.840768, -95.384319], [38.04535, -78.762158], [37.48768, -122.20653], [34.66505, -118.76172], [34.01467, -117.08389], [34.300439000000004, -118.059867], [41.651905, -93.690644], [34.138020000000004, -118.01435], [35.404946, -119.025422], [42.702043, -73.70746], [34.133086, -80.879131], [35.273215, -120.708403], [27.888032, -82.650543], [45.276267, -93.738051], [27.09957, -82.208343], [35.014199, -85.25181500000002], [38.012314, -122.513824], [37.251924, -121.937438], [34.147336, -118.161317], [39.94892, -83.02799999999998], [34.7817, -117.130996], [25.712548, -80.382427], [40.608383, -73.959158], [35.016762, -81.960893], [47.9521, -122.10673], [40.73834, -124.20795], [29.629772, -98.231731], [47.13652, -122.52608], [28.574504, -81.474024], [39.239012, -123.207732], [34.072990999999995, -117.784262], [29.674396999999995, -95.476393], [33.77817, -117.862275], [35.175656, -80.894227], [39.22674, -84.39423000000002], [28.560218, -81.388898], [39.40285, -121.576622], [27.446361, -82.497359], [33.68183, -117.76252], [28.573508, -81.370367], [46.221832, -112.349249], [40.115147, -75.349513], [35.314819, -77.781099], [39.124363, -94.814232], [35.185344, -80.898465], [33.937726, -118.280187], [37.287924, -120.322656], [34.228277, -79.260688], [45.590068, -122.778099], [41.10658, -73.417056], [33.986345, -117.346376], [38.1489, -85.71328000000003], [30.395861, -97.91024], [38.450115, -122.867773], [34.175643, -111.338023], [33.823012, -117.831817], [33.25112, -111.94459], [38.638948, -121.332267], [26.52375300000001, -80.07264], [34.266779, -118.64176], [44.895683, -93.247436], [41.169816, -73.195627], [39.078783, -121.561333], [35.754328, -78.448643], [37.40403, -121.87732], [33.760619, -117.831145], [35.071254, -90.020241], [36.141299, -86.731852], [35.761814, -78.528501], [32.86762, -79.90921], [25.953955, -80.205499], [39.40318900000001, -77.429712], [38.93876, -94.50454], [38.640608, -121.336746], [37.772401, -121.230791], [30.4898, -87.230411], [35.57355, -97.67403], [42.51347, -83.596147], [45.523075, -94.087876], [38.481347, -121.502041], [26.245304, -80.167408], [40.377234, -74.150193], [32.783305, -96.808592], [26.499366, -80.172512], [33.21379, -117.38954], [30.363611, -90.0941], [33.81423, -118.17156], [29.735678000000004, -95.306792], [35.020184, -85.16099], [38.19109, -85.71845], [30.244492, -81.589375], [39.147908, -94.820709], [36.759856, -119.77532], [41.725408, -72.653661], [40.033889, -76.49959799999998], [34.278182, -118.502057], [47.76225, -122.18477], [37.702489, -122.016929], [40.72143, -73.80445], [28.069778000000003, -82.705024], [34.040706, -117.709049], [38.134539, -121.257403], [26.22525, -80.13627], [38.496008, -121.451268], [37.996565, -122.533805], [39.62765200000001, -84.187539], [42.38579, -83.43134], [38.56525, -121.497039], [42.998232, -83.735469], [38.562118, -109.54846299999998], [38.254946, -122.48016], [25.578714, -80.369339], [33.928989, -81.037312], [40.113153, -75.29266], [32.484912, -110.922555], [34.269986, -118.83120900000002], [31.70487, -106.31752], [41.50137, -87.57773], [40.073096, -75.813247], [33.896033, -118.224364], [45.062237, -93.159288], [38.258235, -122.065082], [38.65536, -121.02479], [34.06796, -118.02687], [36.115798, -86.781385], [25.265518, -80.439802], [37.552072, -77.47760500000003], [30.496469, -87.246126], [29.966598, -90.079644], [40.289874, -111.72582], [33.282920000000004, -111.783174], [39.29628, -76.56783], [38.641895, -121.150006], [33.584114, -117.671852], [34.181567, -118.396922], [34.120528, -117.872736], [39.108627, -121.62838700000002], [40.977834, -123.641799], [33.911461, -118.166599], [28.388226, -81.404655], [28.555914, -81.11394], [39.10702, -94.587782], [26.93054, -80.14881], [27.937821000000003, -82.302769], [27.049533, -82.358304], [40.876091, -121.671046], [33.646796, -117.685991], [38.964384, -76.106378], [34.85013, -117.08588], [44.850277, -93.487994], [33.008749, -111.749559], [34.070304, -118.666647], [26.804440000000003, -80.09824], [36.75759, -76.289068], [39.24974, -76.679624], [45.02156, -92.98162], [39.932294, -77.633028], [32.655316, -96.715618], [33.621156, -117.929414], [47.67152, -117.2077], [30.47819, -84.23656], [39.02838300000001, -80.423129], [30.309594, -81.873797], [40.896831, -74.222806], [41.75735, -72.66306999999998], [44.3118, -94.01852], [45.73169, -120.56507], [37.51167, -122.33088], [25.763147, -80.302359], [28.44869000000001, -81.397791], [32.856845, -96.888261], [45.450194, -109.078494], [43.131895, -123.36452], [47.032524, -122.940836], [38.561567, -121.858802], [33.875848, -118.265613], [34.041695000000004, -81.11545100000002], [40.156723, -122.205038], [33.804316, -118.22145], [38.640293, -77.297976], [29.917546999999995, -81.412663], [36.749686, -119.776371], [34.864971999999995, -120.347703], [32.695102, -81.243023], [34.804992, -82.230736], [45.166436, -122.946828], [41.036248, -73.816273], [35.141831, -85.24871999999998], [30.027597, -90.002987], [36.909266, -120.81857], [34.16469, -118.47338], [37.73235, -122.4141], [38.051057, -120.531401], [32.691274, -96.847901], [38.00969, -121.868594], [25.761057, -80.481376], [25.686681, -80.377045], [36.82166, -121.67347], [34.141870000000004, -117.48874], [40.175048, -75.238036], [28.1389, -81.9039], [35.829726, -78.585144], [47.711745, -121.310454], [42.256765, -73.614058], [39.098445, -81.546075], [30.434564, -81.656023], [45.30058, -93.79773], [39.618936, -75.744825], [36.388307, -86.715525], [27.329290000000004, -82.53150600000002], [35.009982, -85.220577], [45.56333, -122.56026], [33.882307, -117.366135], [28.493919, -81.31011099999998], [33.739088, -80.648971], [43.786952, -118.325254], [25.536262, -80.403686], [33.960149, -118.238982], [33.45945, -112.0076], [32.886196000000005, -96.704148], [33.967689, -118.121818], [28.144644, -82.67710799999998], [41.091248, -76.405464], [38.87091, -76.98875], [37.569128000000006, -77.453616], [40.730853, -74.084884], [40.31734, -111.65056], [37.99988, -121.260673], [42.88366, -85.61694], [37.89272, -122.16477], [32.250353999999994, -110.988503], [33.91632, -117.32864], [34.63335, -85.97148], [32.283638, -110.978113], [38.763488, -76.882249], [38.588389, -121.291479], [45.039867, -93.189534], [38.886933, -77.048151], [39.09961, -84.50421], [28.603918, -81.309393], [25.927246, -80.198289], [37.56336, -77.47164000000002], [28.28048, -82.675919], [35.24064, -80.89709], [26.65062, -80.06841], [40.071551, -75.34529599999998], [34.959043, -82.057946], [29.748881, -95.395633], [28.665449, -81.417556], [28.259749, -81.436207], [40.068276, -76.30275300000002], [38.023425, -122.5387], [33.832204, -117.530058], [40.934232, -111.627777], [40.70682, -74.1991], [33.99405, -117.89254], [35.23454, -80.76055], [37.37567, -122.067965], [33.686409999999995, -117.76586], [40.927121, -75.085083], [33.91704, -118.083199], [32.925204, -96.803104], [28.457234000000003, -81.470794], [33.532747, -81.823243], [35.246983, -80.963476], [33.179763, -117.310625], [34.290377, -117.451746], [43.77497, -120.470806], [31.363247, -89.146164], [37.584379, -122.328539], [33.779175, -117.876143], [33.868939000000005, -117.730434], [40.070455, -106.112072], [42.67241, -73.75673], [25.942655, -80.204303], [32.70284, -86.49051], [42.409769, -83.080469], [38.33731, -122.01641], [44.94719, -93.04033], [38.734266, -120.825204], [30.376427000000003, -86.30487], [41.04397, -73.7894], [25.901292, -80.324525], [40.767247, -73.695525], [44.96999, -93.31213], [35.06928, -104.231956], [43.73577, -70.22815], [37.70227, -121.74506], [44.141165, -92.526813], [42.32871, -83.15735], [37.329029, -121.841804], [38.143233, -78.225669], [32.32256, -110.9291], [43.13276, -73.830961], [38.19739000000001, -84.83017], [33.465477, -112.038017], [39.03845, -94.67954], [38.18426, -105.94043], [34.667973, -120.122938], [27.13381, -82.40434], [37.93530300000001, -122.32696599999998], [42.60787, -83.21383], [44.413615, -123.061185], [28.087329, -82.45953399999998], [34.161096, -118.469612], [38.62924, -121.50882], [40.876521, -121.674701], [42.48764, -83.23029], [30.471386, -91.123389], [36.882694, -76.216522], [33.50247, -112.26786], [42.000277, -87.882421], [29.09955200000001, -82.185062], [40.58285, -77.613276], [35.072644, -90.026504], [25.559301, -80.388559], [39.752558, -84.188264], [35.122831, -85.240762], [45.437891, -122.578974], [36.8444, -76.19884], [29.69783, -95.45921], [39.53817100000001, -110.446277], [36.840914, -76.137038], [35.582565, -80.799315], [32.816765999999994, -116.960734], [35.292054, -119.029356], [34.105849, -118.030232], [40.787891, -74.049214], [25.964454, -80.168609], [30.235514, -97.851922], [34.417046, -119.832332], [33.46147, -112.28829], [40.607444, -75.538648], [40.109927, -76.439279], [35.034618, -85.178737], [39.2164, -83.46376], [40.15427800000001, -77.301009], [27.557498, -82.42542399999998], [32.648175, -97.061904], [32.922563000000004, -117.12491], [25.691056, -80.365953], [44.036024, -92.552465], [34.012219, -118.418573], [30.273846, -81.768633], [38.80041, -77.11636], [43.009425, -76.136037], [28.048986, -82.018872], [34.118224, -117.517479], [35.89131300000001, -78.56076], [37.651672, -122.098425], [27.439472, -82.530264], [41.142962, -79.146849], [33.63743, -117.42217], [25.746568, -80.370632], [37.75708, -77.458966], [33.546377, -86.665788], [44.966138, -93.255604], [36.31298, -79.9423], [33.96471, -118.1691], [40.114935, -75.070856], [36.176465, -86.80070699999996], [26.59151, -81.69165], [27.93774, -82.240897], [42.563605, -124.384634], [28.507811, -81.417208], [32.744075, -97.482022], [40.746571, -111.94904], [44.861681, -93.52439], [33.629529, -84.400462], [39.845165, -75.537603], [44.651988, -122.85188], [36.84601, -76.182066], [38.64935, -77.2611], [33.799907, -117.35711], [33.774107, -118.049672], [37.502529, -121.949071], [34.038871, -117.98763], [45.71401, -119.00046], [40.96773, -73.87108], [33.734140000000004, -84.23092], [41.86320900000001, -87.64434], [34.817959, -82.418461], [38.18307, -85.78375], [32.790925, -117.253855], [43.990786, -116.187259], [33.817576, -118.283645], [44.11686, -121.31533], [41.12388, -112.02292], [41.10637, -112.00682], [40.063291, -75.13931600000002], [38.600386, -121.373934], [38.816145, -78.59133100000003], [45.48829, -122.809279], [33.82379, -84.35655], [33.43065, -84.18571999999998], [30.05155, -89.979741], [41.164, -73.23871], [45.441476, -122.569329], [33.668385, -112.065449], [30.31711, -81.73409000000002], [38.794881, -76.998721], [32.746364, -96.79551], [34.342532, -79.534286], [45.08971500000001, -93.431275], [36.318668, -119.673018], [28.48624, -81.44006], [37.78937, -122.254272], [38.612578000000006, -121.415351], [39.40142, -76.56343000000003], [34.106749, -117.82149], [40.853937, -74.174312], [28.20487, -82.666005], [32.927040000000005, -96.76204], [33.851097, -117.875629], [38.052861, -122.227042], [46.674417, -92.985974], [30.266035, -81.618386], [34.276869, -118.452865], [32.799926, -117.233079], [28.450523, -81.39789499999998], [39.045676, -94.409289], [30.72568, -86.57474300000001], [41.04489, -73.56342], [40.80934, -73.92952], [43.126006, -123.364089], [34.716702000000005, -86.63934], [25.762583, -80.370517], [33.848038, -117.855493], [33.88255, -118.02589], [33.927646, -78.756805], [34.994291, -117.581519], [33.853856, -117.92416], [36.075032, -80.10958199999997], [39.747415, -84.153492], [34.135939, -80.962195], [36.909463, -119.92732], [36.654912, -121.660433], [29.686956, -95.336796], [39.42126, -121.725887], [38.557892, -121.386315], [39.734028, -84.252922], [36.48635, -78.30943], [41.35023, -81.51154], [33.906188, -117.456969], [35.755, -88.51019000000002], [35.293822, -80.851395], [25.481533, -80.463109], [39.759506, -84.154958], [38.631008, -121.520043], [34.989290000000004, -85.40293], [44.87055, -123.00205], [25.704114, -80.334288], [32.791504, -117.165832], [40.71901, -74.235389], [43.13969, -123.39061], [29.77378, -95.36763], [39.634477, -106.052625], [30.184818, -81.637247], [38.940616, -77.544859], [41.80512, -87.63215], [32.64206, -96.81208], [45.396831, -122.485239], [40.10587, -111.6548], [36.182643, -86.735742], [35.767102, -78.694259], [28.52644, -81.343427], [35.081784000000006, -120.014137], [34.703271, -92.336258], [41.70441, -88.03090999999998], [39.097496, -104.863884], [40.37194, -76.65016999999997], [32.66925, -97.23459], [44.935924, -93.274526], [34.188489000000004, -114.57423], [30.25504, -97.8101], [30.53426, -91.046967], [33.930086, -118.020655], [45.9327, -118.38762], [34.06864, -81.13760400000002], [33.027187, -85.711802], [29.60662, -98.52789], [35.75656, -78.61758], [40.719953, -73.974846], [43.04518, -75.95259], [38.798788, -77.01895999999998], [37.65292, -77.43311], [25.905851, -80.210044], [45.661743, -110.647827], [40.753322, -74.211026], [34.077874, -117.544973], [38.63927, -90.45261], [36.045955, -119.311142], [42.405317, -123.141396], [44.95965, -93.20469], [38.817825, -76.901112], [42.986782, -83.65039], [33.846051, -118.205659], [34.842078, -80.988038], [35.306311, -80.723715], [38.893586, -76.061686], [39.29553, -77.3339], [36.157856, -86.781453], [43.094964, -76.053477], [37.910673, -122.577175], [45.646621, -110.889534], [33.84032, -117.83273], [36.18941, -80.27703000000002], [45.222934, -122.243188], [32.473526, -93.733253], [34.077681, -117.430246], [42.980566, -78.787062], [35.61612, -119.657453], [28.06135200000001, -82.776197], [34.06775, -117.8355], [25.918639, -80.292875], [32.92465, -96.787731], [35.946248, -78.53782700000002], [34.049822, -117.30452], [46.094365, -123.100192], [47.15908, -122.48356], [33.910451, -84.360958], [32.896853, -117.225765], [39.826122, -75.08413], [33.414113, -81.733998], [28.259957, -81.550721], [42.402098, -122.532829], [40.121191, -76.341778], [41.244381, -111.988502], [33.916419, -118.274598], [41.193129, -76.383333], [25.98899, -80.16585], [38.229714, -86.970004], [28.567072, -81.210551], [34.161437, -119.152155], [34.10669, -118.3285], [35.054595, -85.19423], [25.770074, -80.313113], [38.384331, -78.91635], [33.960141, -118.231589], [33.015066999999995, -80.08953199999998], [30.653153000000003, -88.069056], [32.653371, -96.86445], [42.88782, -85.67974], [38.009311, -120.271371], [37.525681, -77.271834], [42.94332100000001, -85.681752], [43.149145, -77.539868], [33.853122, -117.535013], [34.067656, -117.584344], [31.323362, -92.422839], [35.901141, -78.65395699999998], [30.458271000000003, -81.640804], [36.107114, -86.719797], [42.34814, -83.10587], [33.925585, -118.313428], [28.451811, -81.174749], [28.230344, -80.709384], [29.031738, -82.159301], [33.7591, -117.464171], [37.900031, -121.221095], [34.386418, -118.580348], [28.542374, -81.412733], [38.664303, -121.253287], [40.90062, -111.89226], [41.121336, -77.504767], [25.787536, -80.17853000000002], [33.979440000000004, -118.28062], [36.380431, -79.661355], [46.076309, -123.916918], [28.371628, -81.36712], [37.15045, -113.483544], [35.49323, -97.44199], [45.12775, -93.3563], [28.823662, -81.788913], [34.324, -118.50182], [40.65406, -74.00782], [38.55788, -121.448376], [34.028981, -118.01313], [34.150432, -118.808201], [27.059138, -82.314447], [40.753843, -73.744396], [33.98561, -117.3457], [41.749692, -72.714122], [41.87552, -87.63892], [33.412859999999995, -111.89151], [25.901054, -80.30769699999998], [43.886636, -123.022098], [28.59979, -81.270385], [37.62345, -122.400645], [40.681847, -73.805755], [36.18374, -115.14397], [35.111207, -120.093985], [32.308785, -95.278945], [37.881182, -122.516488], [35.25745999999999, -81.02215], [45.47646, -122.78948], [42.39147, -71.01304], [38.875956, -77.278983], [40.90883, -73.81381999999998], [41.833929, -122.62016], [38.175538, -79.001497], [36.04656, -86.661262], [34.03689, -118.297442], [34.029428, -117.329795], [36.880505, -76.20676999999998], [38.839247, -77.444962], [37.753016, -122.207409], [40.168526, -75.126348], [44.063447, -123.051778], [29.92593, -95.30166], [43.960903, -123.011006], [41.503818, -90.670503], [32.984909, -80.022072], [32.802382, -96.793406], [37.616518, -122.073503], [39.57657, -75.66173], [38.56748, -121.382848], [36.972828, -79.955636], [25.715212, -80.41520899999998], [35.015213, -85.163684], [38.241981, -81.54944300000002], [35.61255, -120.690702], [36.808461, -119.785426], [39.625141, -77.418759], [37.50281, -122.33142], [34.072726, -118.053627], [26.70802, -80.14635], [45.685755, -118.724302], [44.63287, -93.29808], [40.7045, -111.98019], [34.274983, -118.493414], [39.651284, -84.175428], [46.522366, -93.683078], [43.159336, -77.642151], [25.869104, -80.21119200000003], [32.722344, -96.830372], [34.081906, -117.299007], [43.5153, -95.1747], [45.237979, -121.146043], [35.84970999999999, -78.576665], [38.984094, -77.159674], [28.408204, -81.44808], [28.2494, -81.62742], [34.282783, -118.415161], [35.302772, -119.002994], [25.59865, -80.35243299999998], [29.709689, -95.512947], [30.32639600000001, -81.679197], [36.008988, -83.83880400000002], [44.65022, -122.85266], [43.136036, -75.276893], [42.276811, -88.396724], [40.17204, -75.97844], [28.242904, -81.216829], [38.58962, -121.446197], [34.07745300000001, -117.479929], [36.108767, -86.744084], [38.57865200000001, -121.506954], [36.058383, -119.321958], [37.710344, -122.465358], [32.91695900000001, -97.011927], [45.15073, -122.703668], [33.833611, -118.208885], [29.11112, -98.92857], [38.64520200000001, -90.190245], [38.616731, -76.92030600000002], [35.127009, -120.598697], [40.231478, -79.525948], [34.062786, -118.248677], [38.94430300000001, -77.579378], [37.836433, -122.011453], [33.951764000000004, -117.677021], [37.55022, -122.02569], [40.120682, -75.132593], [44.422413, -121.999171], [29.55459, -98.48583], [38.480068, -90.222801], [33.400287, -111.883378], [40.807417, -74.182466], [45.839048, -123.51522], [37.8889, -122.05775], [45.066173, -93.285307], [34.136227000000005, -117.431133], [28.537651, -81.47573299999998], [33.727628, -117.649947], [25.671146, -80.40820699999998], [45.04687, -93.10984], [28.436215, -81.359243], [32.77113, -96.81288], [42.984706, -78.468657], [44.787297, -93.247988], [35.57230999999999, -80.55829], [26.014949, -80.16686], [38.950289, -121.093023], [29.84540100000001, -95.537439], [34.73218, -86.59688100000002], [33.968454, -117.849129], [38.955206, -77.356401], [34.97353, -82.00755], [47.09861400000001, -122.293567], [36.487714, -119.380377], [33.837027, -117.305069], [25.691856, -80.383626], [35.740485, -78.443558], [40.332151, -74.482294], [40.835372, -73.881958], [40.018612, -75.62995699999998], [38.87819, -77.03730999999998], [39.843438, -75.40348900000002], [32.757119, -117.222068], [37.06644, -121.21898], [32.934075, -80.04599], [36.464062, -109.59906200000002], [34.20221, -118.34031], [41.81494, -87.74954], [37.82617, -122.27674], [34.912040000000005, -78.9544], [38.620987, -77.282719], [40.235699, -76.973208], [37.772193, -122.437273], [35.314027, -119.035103], [33.756211, -117.83151200000002], [35.675901, -86.284335], [26.531632, -81.87136600000002], [39.825707, -76.68428], [25.731574, -80.335685], [33.868072, -78.621368], [25.926627, -80.23997800000002], [40.74107, -73.84342], [27.957984000000003, -80.610712], [45.10593, -93.39317], [45.12774, -93.48593], [25.913248, -80.333762], [39.84577, -75.71141], [35.621353000000006, -78.514248], [34.113761, -119.082752], [25.895288, -80.20954300000002], [29.6503, -95.493866], [37.98325, -122.315941], [41.71466, -87.63195], [47.74851500000001, -92.382882], [27.499166, -82.573389], [37.193344, -119.721776], [28.38801500000001, -80.703103], [33.909355, -84.28280699999998], [28.539091, -81.309969], [44.790605, -95.889691], [25.825678, -80.20669000000002], [37.490886, -121.08921], [33.87631, -118.12106], [33.653212, -78.986729], [34.046581, -118.214873], [34.151343, -118.451233], [47.99212, -122.18131], [40.448902, -111.368397], [42.907887, -74.575227], [27.95558, -82.47142], [45.66411, -118.81022], [38.91190200000001, -77.02334599999998], [25.93939, -80.29375999999998], [33.895720000000004, -118.28631], [33.75692, -118.290706], [38.573802, -121.581112], [43.01261, -83.64766999999998], [40.788306, -124.139683], [33.95328, -117.305875], [39.705115, -78.56792], [34.135459999999995, -117.96663], [34.030162, -117.685128], [29.770192, -95.600209], [33.25639, -117.15763], [34.22755, -77.95198], [38.967316, -77.17998], [42.36129, -71.59581999999997], [38.395288, -82.40241400000002], [25.686614, -80.379465], [40.699857, -111.89222], [27.461521, -82.58755500000002], [25.715168, -80.431221], [47.335204, -93.800308], [34.308245, -117.470842], [41.76066, -87.88071], [43.870394, -93.246282], [38.917199, -76.977153], [33.748251, -117.831577], [38.641287, -121.424921], [29.05245, -82.168863], [37.783488, -121.230104], [40.8167, -73.57359], [37.594806, -122.058284], [29.374804, -82.131946], [34.08726, -117.646955], [30.525332, -87.313439], [41.929198, -92.576387], [36.62353, -121.58161], [33.862641, -117.263281], [37.034815, -76.356257], [34.215959999999995, -117.12252], [39.900221, -104.988178], [42.321985, -112.218099], [38.911143, -77.218091], [42.591236, -121.879652], [47.417239, -122.62279], [33.924719, -118.085099], [32.674702, -97.001649], [47.462573, -122.249316], [40.143423, -79.030532], [42.309641, -122.847112], [39.87312, -74.92185], [36.325939, -86.706193], [34.01794, -84.32696999999997], [43.104, -87.90706999999998], [33.992034000000004, -117.931843], [34.119496000000005, -117.757783], [34.11561, -84.5328], [33.88872, -118.03717], [25.897189, -80.245662], [35.226779, -93.165822], [44.693852, -118.195306], [28.374267, -80.70081], [33.81188, -118.16213], [40.60177, -74.06107], [33.034196, -96.997746], [30.32062100000001, -81.687046], [44.82171, -117.60731], [33.85745900000001, -117.97605], [39.74631, -84.30963], [34.572607, -117.826562], [32.80299, -96.780703], [28.930848, -82.111915], [37.13867, -79.24645500000003], [37.430966, -121.886753], [36.844788, -76.17043199999998], [45.252987, -93.555066], [34.18553, -118.31751], [42.42893, -87.93811], [28.4211, -81.42755], [33.921366, -118.369246], [37.722342, -79.437492], [35.40907100000001, -119.034154], [47.275649, -122.312645], [27.89542800000001, -82.787195], [33.735741, -93.526192], [25.761814, -80.338151], [44.18132, -93.94886], [37.844079, -122.297621], [39.00747, -76.979989], [44.239507, -95.734831], [32.955075, -117.244531], [33.25602, -117.068353], [32.78459, -96.76873], [31.74929, -106.33977], [30.195415, -97.758645], [25.782451, -80.222626], [26.114346, -80.168585], [42.356725, -83.079739], [34.047259999999994, -118.26782], [35.49114, -78.3477], [39.597377, -77.659145], [41.75649, -72.649229], [32.13394, -110.96791], [37.056762, -120.912916], [32.795735, -96.692218], [36.371849, -119.655022], [25.8026, -80.20558], [40.376553, -79.57326], [37.098804, -121.583772], [40.478836, -80.04313499999998], [34.20414, -117.145103], [40.242215, -77.115156], [35.827006, -78.62532], [27.586959000000004, -82.409144], [40.657385, -73.98293100000002], [40.467471, -78.060047], [34.029703000000005, -118.256059], [33.808333000000005, -81.005285], [40.402082, -74.190641], [30.031844, -89.989271], [33.944523, -118.098719], [41.02507, -75.64797], [41.373664, -73.610876], [33.488443, -117.664127], [26.621627, -81.87221], [43.013802, -83.635064], [38.557036, -121.446347], [34.0587, -117.54518], [34.995737, -81.94646999999998], [30.446452, -84.28856400000002], [36.838585, -76.286884], [34.03167, -118.02194], [45.00213, -122.99846], [45.191038, -107.364083], [45.553275, -122.678543], [29.73415300000001, -95.414089], [37.699354, -121.929057], [33.730806, -117.39884], [36.979488, -120.08238500000002], [45.57102800000001, -122.549963], [43.65081, -93.76075], [40.632365, -80.32178499999998], [35.034845000000004, -120.500887], [34.020674, -117.814417], [35.61873, -78.5672], [35.005720000000004, -85.279], [33.98915, -118.280163], [32.744547, -97.335122], [33.28632, -111.111774], [43.551803, -124.209669], [32.286482, -110.979658], [45.48275, -122.56613], [33.459264000000005, -111.994764], [30.453856, -91.166039], [34.15443, -118.31416000000002], [34.13066, -118.44209], [39.992775, -75.200879], [40.6217, -111.90387], [47.7012, -122.685721], [25.821241, -80.206664], [40.69987, -111.86547], [33.916047, -84.40664699999998], [43.061572, -76.559335], [35.277915, -80.85668000000003], [34.049678, -118.448599], [39.294518, -76.531468], [33.656709, -117.084421], [39.609177, -123.457959], [34.716289, -80.302719], [38.997191, -76.128068], [41.76288, -87.860304], [46.357239, -94.244197], [28.545044, -81.59843000000002], [30.274709, -81.52153100000002], [38.691369, -77.227074], [32.851481, -117.180328], [29.665714, -81.293109], [33.669637, -112.118299], [37.892862, -122.125001], [40.084739, -102.229753], [37.055692, -121.545755], [30.403251, -87.34393100000001], [34.094299, -118.241548], [44.87614, -95.48303], [33.892078999999995, -118.266742], [27.388811, -82.45312], [41.701859000000006, -72.805312], [40.853624, -73.962913], [29.645766, -95.531249], [45.50868, -122.736675], [33.74174, -84.4204], [33.996262, -117.36411], [44.94666, -93.27489], [45.441799, -94.566691], [29.852784000000003, -81.32267399999998], [34.89011, -82.40586], [34.273207, -118.591559], [42.94675, -83.72384], [38.428727, -122.715193], [45.53167, -122.617221], [27.534277000000003, -82.50321600000002], [37.4631, -119.778175], [47.33379, -114.930655], [35.90085900000001, -78.80909], [32.930647, -96.761191], [37.451934, -120.800195], [38.868195, -77.047359], [44.952873, -93.095104], [36.635555, -119.694392], [41.971149, -114.674831], [35.005957, -114.59799], [41.383265, -71.893866], [34.232378999999995, -118.473204], [32.71165, -117.118802], [37.663981, -121.028285], [37.9318, -77.48014], [45.21558, -93.59164], [27.20985, -80.40031], [37.80708, -122.368389], [34.050277, -118.214107], [39.01535, -94.49709], [34.125947, -81.22946800000003], [26.93460300000001, -82.017477], [34.079639, -117.738534], [42.127772, -90.266793], [38.438697, -121.506848], [33.957805, -118.087262], [34.058289, -84.602577], [41.168519, -80.230412], [36.054024, -79.768124], [44.138463, -95.943249], [29.44963, -98.63276], [34.20215, -118.21909], [34.250406, -79.817337], [37.098387, -122.049229], [45.526, -122.6869], [39.330615, -77.190185], [33.402489, -117.596669], [30.44319500000001, -85.42628], [45.884279, -119.296792], [33.461383000000005, -112.44068], [37.264811, -81.121589], [39.736642, -74.259872], [37.756, -122.403115], [33.135332, -117.326993], [27.771003000000004, -82.691662], [26.545079, -81.90071800000003], [39.72559, -105.03941], [31.91825, -106.40736], [27.896018, -82.72904799999998], [40.14145, -76.55275], [38.975019, -77.17837800000002], [28.548022, -81.310753], [35.52482, -97.56568], [28.635424, -81.448527], [31.768044, -106.298276], [30.401676, -86.888688], [38.906218, -77.01216099999998], [28.572354, -81.475994], [32.747851000000004, -96.856917], [35.392466, -80.85243299999998], [34.234708000000005, -117.426283], [42.139842, -122.594221], [39.20086, -77.266277], [43.745475, -122.517709], [45.061915, -94.059501], [38.70659000000001, -90.49738], [45.160063, -123.942526], [28.075658, -82.734879], [44.91545, -122.98838], [33.974652, -118.283783], [41.652632, -93.570489], [43.566224, -116.196681], [39.453216, -76.317451], [38.585202, -121.503019], [33.873613, -117.695575], [43.180842, -77.599182], [34.190336, -118.14932], [39.669868, -75.600348], [34.029518, -118.432284], [38.517643, -121.462596], [34.161375, -118.293174], [43.590293, -116.370903], [45.7887, -94.94366], [33.997057, -117.931191], [38.681077, -121.328402], [38.297797, -120.704682], [28.068673, -82.747476], [29.70212, -95.29549], [32.795735, -96.692218], [40.12139000000001, -75.079802], [43.094187, -75.277355], [40.767711, -74.065253], [36.09948, -86.76386], [41.019489, -73.628876], [26.188084, -80.172071], [25.946466, -80.147125], [40.62082, -111.90407], [40.7619, -87.11705], [29.396613, -98.522568], [45.541166, -122.472311], [37.771786, -122.423393], [36.894236, -76.42635600000001], [39.670691, -75.599587], [38.565927, -77.329105], [35.151947, -119.109874], [34.01962, -117.54324], [44.951838, -93.08616], [28.421394, -81.400216], [43.179176, -83.734633], [34.410059999999994, -118.44623], [44.187953, -93.982649], [36.295534, -119.759334], [37.623378, -121.122025], [40.62494, -74.30682], [35.6201, -84.087464], [25.807238, -80.338735], [44.438445, -124.075007], [34.16254, -118.158581], [40.31734, -111.65056], [34.295829, -117.455402], [39.988592, -75.790446], [38.566187, -121.502071], [25.933639000000003, -80.245965], [27.894061, -82.644535], [36.220031, -86.774774], [29.991043, -90.061959], [33.805736, -118.14252], [42.49226, -82.99894], [34.148461, -118.469244], [32.20683, -110.87509], [41.6217, -87.68275], [25.891071, -80.209529], [41.19377, -95.94077], [47.24353, -122.50539], [38.772011, -121.245457], [32.544134, -97.314847], [28.648722, -81.324774], [40.265134, -75.628017], [38.906563, -76.93923199999998], [29.897304, -95.412238], [36.712607, -81.937118], [45.03564, -92.86295], [33.876515999999995, -118.131268], [42.20457, -87.93930999999998], [43.617483, -75.370233], [35.26318, -80.761579], [45.306491, -93.819395], [39.042038, -121.079407], [29.62141, -95.51025], [25.867552, -80.255325], [32.74372, -117.04865], [30.719174, -85.185474], [32.814036, -96.789868], [34.24329, -84.76795], [43.612468, -123.568201], [40.92251, -73.82014000000002], [37.74219, -121.52587], [36.604422, -119.484375], [38.375838, -121.919086], [37.77177800000001, -122.187128], [25.942426, -80.30569799999998], [32.557109999999994, -96.66319], [25.730278, -80.429727], [34.070302000000005, -117.207771], [44.436041, -121.936393], [38.496008, -121.451268], [29.132205, -95.45189], [39.78566, -105.0832], [37.465909, -121.18286100000002], [35.37258, -82.472645], [34.029941, -118.44219], [37.739473, -121.590146], [36.162324, -95.88676], [32.77505900000001, -117.134717], [33.136790000000005, -117.17087], [32.267705, -86.707442], [39.017975, -74.884967], [37.889558, -122.058503], [33.80523, -79.2032], [42.69759000000001, -73.88807], [38.89374, -77.05013000000002], [34.649, -78.551951], [33.925157, -118.308989], [37.697338, -122.087001], [38.595972, -121.40246100000002], [43.45461, -121.70213], [33.96758, -118.28063], [41.68556, -87.66197], [33.87587, -118.23629], [40.513384, -78.395328], [34.05608400000001, -118.255871], [42.933084, -85.671872], [40.189119, -78.424769], [28.564772, -81.20727600000002], [32.656890000000004, -96.88434], [38.02372, -122.53844], [28.00989, -81.86545], [35.418872, -119.04565], [35.703368, -119.22297], [38.67734, -90.36092], [44.85854000000001, -93.29804], [28.51425200000001, -81.39699999999998], [42.96277, -87.94951], [33.465720000000005, -112.00422], [33.462531, -112.496359], [44.928728, -92.965718], [39.37831, -76.7439], [34.014212, -117.449092], [37.934664, -121.084259], [36.778696, -119.97007], [33.96575900000001, -118.164984], [33.871225, -117.880307], [45.694245, -122.871284], [43.196772, -77.551771], [34.819776, -82.268579], [38.763794, -76.882699], [37.320394, -120.539296], [35.020542, -85.402185], [45.460835, -94.399026], [47.59921, -122.318054], [45.486236, -120.725882], [36.541978, -119.286848], [26.522924, -81.87016700000002], [35.27545, -81.2331], [34.760967, -86.672891], [34.030386, -118.147135], [32.133818, -111.038011], [34.777898, -92.396577], [34.067474, -117.981451], [39.04856, -94.64327], [33.899313, -118.215936], [33.201531, -80.270286], [33.037334, -83.92650400000002], [38.529479, -121.755194], [40.69589600000001, -73.97037900000002], [36.173, -80.25953], [42.055953, -119.486457], [32.775541, -117.141258], [39.42184500000001, -77.485299], [37.757033, -122.000048], [37.603428, -122.064142], [40.861705, -73.974584], [40.806065, -73.90904499999998], [38.813548, -77.44721700000002], [26.613939, -80.068781], [34.136331, -80.960611], [34.2773, -119.295533], [37.149857, -87.961221], [25.883993, -80.38847700000002], [27.431812, -82.395385], [30.216425, -97.84191], [33.938409, -118.097201], [35.226997, -85.021711], [29.866101, -95.417706], [27.809204, -82.663108], [44.90135, -93.13599], [35.22437, -80.865], [25.709756, -80.415018], [37.826894, -122.26691], [44.016286, -123.924654], [28.454192, -81.33199], [31.782007, -106.406533], [39.394677, -76.699694], [30.660724, -87.875], [32.632344, -117.096973], [36.0465, -79.76583000000002], [45.21628, -93.59327], [38.521218, -77.372047], [35.363281, -119.234358], [39.013212, -122.632972], [34.250618, -119.208043], [39.07718, -121.549074], [45.445257, -122.73553400000002], [25.733292, -80.330738], [34.27441, -118.54049], [33.548508, -84.571486], [34.189073, -82.214236], [42.50566, -82.91799999999998], [33.75604000000001, -118.01797], [36.698435, -81.985656], [29.69173, -95.28362], [39.836483, -85.565333], [34.15432, -118.32265], [44.99067, -93.09008], [43.78027, -95.59328], [41.75188, -87.96736999999996], [25.670941, -80.414505], [33.530811, -80.924683], [37.364098, -121.901972], [33.68148, -84.31313], [30.439288, -97.668627], [34.669429, -118.764642], [33.945318, -118.09439], [38.724085, -121.958331], [33.84573, -117.95899], [30.307508, -81.86914499999997], [34.0319, -118.417993], [34.135585, -117.587943], [40.78181, -73.64945999999998], [33.398688, -111.967291], [39.736077, -84.204676], [42.197283, -87.984751], [38.353803000000006, -120.791888], [27.123838, -80.277281], [41.81092, -87.76281], [47.211349, -122.46213], [38.630963, -90.358321], [38.235646, -121.073846], [44.239829, -93.424504], [39.84419000000001, -86.04244], [36.19132000000001, -86.18061999999998], [30.44261, -91.138447], [41.22377, -96.03389], [34.023652, -117.752895], [46.118983, -114.178665], [34.05843, -117.78597], [37.416311, -120.448427], [34.68327, -77.9479], [39.926258, -74.959148], [36.659925, -120.568207], [34.88977, -82.46864000000002], [39.01085, -78.36646], [37.217042, -112.976099], [33.894871, -84.452816], [34.672007, -78.980777], [33.05036, -96.82992], [29.70517000000001, -95.15353], [42.32649, -71.2503], [39.971251, -75.46742900000002], [39.699675, -104.985232], [34.410758, -118.669634], [33.199798, -87.566448], [25.941563, -80.189584], [37.297548, -122.028987], [33.002927, -96.829244], [32.88792, -96.70506], [28.0085, -82.45307], [33.175231, -117.362189], [40.729104, -74.12795], [28.01951, -82.755044], [37.616728, -122.07395], [34.506479, -117.450982], [30.006442, -90.019013], [40.66742, -73.77433], [42.876649, -78.868711], [40.65115, -77.239532], [34.26645300000001, -119.270657], [35.108000000000004, -80.85842], [37.849901, -121.44971], [44.966701, -93.25461], [42.931662, -78.76616800000002], [33.767846, -84.53259200000002], [32.33317, -90.131776], [33.233779, -111.858604], [28.56681, -81.206435], [38.48159, -121.372891], [45.078016, -93.374243], [28.324459, -82.553275], [36.173392, -77.788751], [40.856398, -73.917589], [30.339377, -81.540318], [29.851256, -95.334297], [30.034568, -89.995991], [39.245591, -121.660071], [34.081849, -117.703775], [35.05862800000001, -119.171758], [25.572286, -80.377155], [37.634974, -122.08695], [34.365320000000004, -118.55666], [32.757125, -117.159792], [28.539111, -81.286681], [33.5814, -84.51745], [33.951232, -117.385399], [34.064383, -117.278399], [40.73027, -73.87620799999998], [34.092766, -117.98338], [42.791853, -84.51420999999998], [41.396301, -73.59531899999998], [25.627116, -80.3418], [26.667835, -81.94120600000002], [33.80278, -118.12081], [40.406382, -75.338539], [45.370584, -122.749782], [36.984155, -121.957258], [37.898105, -122.089006], [27.298808, -82.501366], [39.08951, -77.15188], [41.05123, -77.4415], [40.03808400000001, -76.501357], [46.176121, -123.52708], [33.80608400000001, -117.880329], [46.822067, -100.834053], [43.066545, -118.198674], [32.763354, -96.672068], [34.894507, -120.422957], [41.05769, -81.56754000000002], [34.065158000000004, -118.000227], [36.167574, -86.542611], [25.833467, -80.322209], [29.554913, -81.21154399999998], [30.45861, -91.16685], [38.668216, -121.336709], [41.192161, -73.19480300000002], [29.82066, -81.376901], [34.02008, -118.183016], [41.76639, -72.68739000000002], [34.23595, -118.412738], [34.037999, -118.276449], [29.966711, -90.095211], [40.73929, -111.90454], [33.43677, -112.10826000000002], [27.893838, -82.335194], [37.876337, -122.046607], [46.42677, -95.57922], [36.985644, -121.981664], [39.521275, -123.392799], [48.051697, -114.007087], [42.945352, -78.766297], [35.21713, -85.173956], [42.37073, -83.05894], [45.063688, -93.448843], [34.066787, -117.445167], [33.778764, -117.885371], [32.15647, -110.93005], [33.93978, -117.22621], [45.506891, -122.719454], [34.386455, -81.101499], [33.387541, -117.227751], [35.160748, -80.800252], [33.308193, -117.227803], [42.792055, -78.816787], [33.863242, -80.110834], [43.160938, -77.68120400000002], [28.332104, -82.2286], [37.733238, -122.405707], [41.26752000000001, -85.85673], [45.31614, -94.29863], [48.23084, -114.26991], [36.302986, -119.709197], [40.71732, -73.8312], [34.12115900000001, -118.22978], [43.14882, -77.62054], [33.67772, -84.31857], [35.027563, -81.871759], [32.74864, -111.51588], [40.63171, -74.21167], [47.616194, -122.331444], [39.92762000000001, -75.14641999999998], [29.70884, -95.37661], [37.22543, -77.39355], [37.628296, -122.120524], [39.95337, -82.95751], [38.55214, -121.41575], [33.778343, -117.896506], [39.53016, -75.73699], [33.939183, -117.173544], [42.95177, -71.45088], [40.459832, -124.135527], [37.313143, -120.851218], [36.159649, -86.782573], [40.071757, -75.437347], [42.34836, -83.10468], [34.484056, -117.336312], [38.9411, -94.84619], [29.85935, -95.402454], [32.3977, -80.68533000000002], [35.159265000000005, -111.266505], [29.67637, -95.3559], [34.022141999999995, -112.14843700000002], [35.16292, -80.71593], [30.481869, -91.078378], [33.678296, -117.757785], [34.031253, -118.187398], [42.55707, -70.93023000000002], [25.743586, -80.415114], [36.133826, -86.884106], [36.759135, -76.27463900000002], [33.911172, -118.370558], [37.222208, -93.296019], [36.115958, -86.774281], [30.416743, -97.695432], [33.749503000000004, -118.010752], [25.62778, -80.374422], [35.20124000000001, -80.84366], [34.066721, -117.22718], [38.343068, -78.934053], [38.490613, -121.803762], [39.861832, -77.070488], [40.329083, -111.736074], [32.456477, -93.777092], [45.150304, -122.635223], [28.694848, -96.824482], [29.71607, -95.468063], [32.837985, -97.112944], [40.78771, -73.52476], [44.951494, -93.119119], [25.686389, -80.35009699999998], [43.163689, -77.63672199999998], [42.96772, -85.70129], [35.36602, -80.82675], [25.683394, -80.41639599999998], [42.457154, -83.097507], [41.637443, -74.07831], [28.481217, -81.330855], [39.148832, -76.634591], [44.92487, -93.45149], [34.014108, -118.159205], [35.843975, -78.68062900000002], [36.868848, -81.408876], [33.423275, -112.13453], [39.86091500000001, -84.38818], [29.741253000000004, -95.454621], [37.98222, -103.664768], [34.036919, -118.300363], [25.889368, -80.206795], [41.032377, -73.752615], [40.559907, -111.426959], [45.19332, -93.394123], [39.72040300000001, -75.54539100000002], [34.121593, -117.832192], [33.979440000000004, -118.28036000000002], [42.311317, -71.053143], [38.92531, -94.52752], [34.09817, -117.98538700000002], [34.045442, -118.317722], [40.09160900000001, -75.40966], [40.911753, -87.212665], [41.23447, -73.03047], [40.4538, -111.91392], [45.510793, -122.706655], [30.73381, -85.685331], [37.82628, -122.277102], [47.70865, -122.33128], [38.714312, -121.392379], [38.56056, -121.46397], [34.418889, -119.592222], [33.822631, -117.875992], [35.448232, -82.540357], [36.958117, -121.55128899999998], [40.472626, -78.281278], [32.7872, -96.62435], [25.769749, -80.331322], [39.422988, -77.494504], [45.373249, -123.157683], [28.601803000000004, -81.418775], [34.032838, -118.334922], [32.500068, -93.75194], [26.431183, -81.79041600000002], [45.51549, -122.69966], [38.68794000000001, -76.872109], [32.720279999999995, -96.805727], [36.22965900000001, -86.83863000000002], [45.070487, -93.247797], [40.70052, -73.50350999999998], [42.28162, -83.19888], [40.25049600000001, -77.029781], [43.174048, -77.40043], [38.017598, -121.889716], [38.57592, -90.377254], [28.037109, -82.45500899999998], [37.1743, -93.26249], [35.949675, -119.089882], [30.445014, -91.230468], [38.513623, -112.263824], [34.000883, -117.844104], [40.025297, -75.228976], [33.46597, -112.15181], [39.98716, -78.25158], [33.880151, -117.565244], [38.328979, -85.754087], [34.996765, -90.002349], [34.131076, -118.001008], [38.448554, -122.725535], [34.231428, -118.40314], [39.0695, -94.51009], [34.06983, -118.26133], [33.876935, -118.151504], [36.079721, -86.696309], [39.140857, -76.846694], [38.320285, -81.651416], [41.526464, -124.036835], [37.21282100000001, -93.312118], [39.967155, -76.777254], [28.52361, -81.3103], [38.342124, -85.805164], [34.06368, -117.815144], [37.351514, -78.98556500000002], [34.0368, -118.02375], [35.37726, -97.50343], [40.005788, -75.216971], [45.832438, -109.898672], [38.456226, -121.94221], [42.498374, -121.87899099999998], [34.87005300000001, -82.282942], [33.442758000000005, -86.731363], [36.106047, -95.966962], [34.27509000000001, -119.18895], [40.090229, -75.126437], [36.843249, -76.123312], [38.882339, -77.018659], [36.650444, -121.814635], [45.121289, -93.188384], [29.736733, -95.500827], [45.08669, -122.66777], [35.17367, -82.45215999999998], [29.754454, -95.467403], [44.116639, -117.06264], [38.769153, -78.624655], [38.91626, -94.76766], [33.51858, -112.162169], [33.991682, -84.33824200000002], [41.212708, -73.80948000000002], [34.054078999999994, -118.237417], [38.634079, -120.524569], [45.03576, -92.80746], [47.866154, -122.275396], [30.345617, -81.547863], [33.960648, -118.280522], [30.466085, -87.242018], [36.880491, -119.977172], [30.447481, -87.311578], [38.673924, -121.728955], [34.066720000000004, -117.246093], [35.56915, -80.56012], [40.68712, -74.09015], [34.074484000000005, -117.810858], [25.733235, -80.33337], [45.360359, -122.614051], [30.365259, -97.701667], [35.783935, -78.73385999999998], [32.66902, -86.25334000000002], [28.52421, -81.33111], [37.76300300000001, -121.967178], [29.832924, -95.384109], [27.86584, -82.83185], [31.779881, -106.248559], [40.824865, -73.869377], [35.640241, -78.842248], [33.766451, -117.902898], [28.57136400000001, -81.40668199999998], [43.103397, -77.753801], [42.761332, -73.93042], [33.93631, -118.09346], [40.034497, -76.3079], [33.847771, -117.871702], [37.63425, -122.41187], [33.638676000000004, -112.012676], [35.85053, -78.61448], [39.084023, -94.680411], [37.663322, -122.105616], [45.817741, -95.122858], [41.64400300000001, -93.600433], [43.095786, -89.551549], [31.325075, -89.352013], [28.597404, -81.29762099999998], [41.720059, -111.859944], [39.922776, -78.234651], [33.05673400000001, -80.168598], [40.58799000000001, -111.8987], [25.80927, -80.31626999999997], [35.40477, -80.85736999999997], [37.508707, -77.473035], [44.954112, -93.078714], [38.113054, -122.229919], [40.373807, -74.146622], [41.87543, -87.67274], [40.88501, -74.16767], [44.416751, -119.013656], [25.672508, -80.367659], [34.065725, -117.255941], [33.521102, -86.844916], [41.497431, -95.227464], [40.399163, -123.950253], [34.492709000000005, -118.542174], [33.918133000000005, -118.194159], [42.21375, -83.40778], [34.234178, -118.473197], [30.540376, -91.021408], [39.258122, -76.698448], [39.27328, -76.55358000000003], [45.51549, -122.69966], [36.954168, -119.505115], [37.944857, -121.255581], [33.876332, -118.091037], [35.713491, -120.694102], [42.076123, -122.60372], [30.427625, -86.63695600000001], [40.69008, -73.55595699999998], [39.341352, -121.059323], [38.610642, -121.401547], [41.333345, -105.61621], [25.88281, -80.24509], [46.030515, -94.334074], [34.014509999999994, -117.81937], [42.10342, -88.3353], [26.449391, -81.78876], [38.772847, -90.400532], [25.886776, -80.164583], [35.19787, -80.88263], [32.65952, -96.8229], [35.611669, -78.56611099999998], [34.085935, -84.51516], [40.715041, -73.995191], [30.304299, -97.714807], [27.4476, -82.57540999999998], [32.676352, -97.186965], [47.36236, -122.29566], [39.77145, -84.19169000000002], [42.740582, -73.78063399999998], [41.932226, -79.97422900000002], [37.535368, -83.347391], [25.734958, -80.319197], [30.37131500000001, -87.32538000000002], [33.762254, -117.92018600000002], [32.835637, -96.699963], [34.03668, -118.31528], [33.613603999999995, -117.680739], [42.426806, -123.045254], [39.322332, -77.004257], [32.736453000000004, -97.440847], [28.997287, -81.30242700000002], [30.437905, -81.724562], [34.876753, -82.22621], [42.053653, -88.01236800000002], [43.097374, -77.426164], [33.72797, -116.20445], [37.01360800000001, -76.324787], [25.810711, -80.337487], [33.686737, -117.872938], [38.043558, -84.49389000000002], [25.871036, -80.210001], [42.385393, -83.157159], [32.842372, -97.342761], [42.40631, -82.95625], [47.721921, -122.34496], [30.438693, -91.085801], [42.85606, -78.59591400000002], [41.66267, -87.59124], [33.978323, -118.127443], [35.149701, -80.897374], [41.84946, -71.41108], [36.632999, -119.412921], [35.21334, -80.83393000000002], [41.99504, -87.86606], [41.330724, -75.738122], [29.899925, -95.758156], [35.76898, -78.7271], [26.685359, -81.884603], [37.83583, -122.484694], [33.9627, -118.11827], [33.087385, -117.299967], [39.56362, -104.888459], [27.430942, -82.575466], [25.899548, -80.184336], [32.30475, -96.58428], [37.40407, -122.02207], [34.068082000000004, -118.02987], [30.304144, -81.90302199999998], [35.010290000000005, -85.19229399999998], [41.071647, -76.427367], [40.371676, -75.926524], [25.748356, -80.335763], [44.0875, -123.06415], [40.49776, -80.06978000000002], [34.230256, -79.80107199999998], [25.899894, -80.158967], [48.214348, -122.21746], [35.01934, -85.26729399999998], [34.22808, -118.3911], [25.691323, -80.405051], [34.076617, -117.745209], [28.59063, -81.37906], [40.62673, -74.4381], [44.99292, -93.40085], [43.133161, -77.650936], [26.54203900000001, -81.871303], [34.167651, -79.76424], [41.24878, -73.079688], [45.66962, -92.99249], [37.82497, -121.217173], [39.97515, -75.19455500000002], [30.629197, -81.564184], [35.81831, -78.60829], [45.661443, -110.790954], [39.32224, -76.63188000000002], [33.778358000000004, -117.871799], [47.401639, -92.601131], [41.521972, -72.809161], [25.846986, -80.211189], [33.87262800000001, -118.281212], [25.881818, -80.242974], [35.00308, -85.33975699999998], [40.755267, -73.899431], [25.748864, -80.303563], [27.4859, -82.4694], [37.61728400000001, -122.154525], [27.617266, -82.484601], [46.110036, -123.922059], [41.60582, -87.70385999999998], [41.25956, -95.92329], [40.72301, -112.22587], [45.611845, -121.141503], [29.441537, -82.466254], [37.93676, -121.297397], [40.810201, -123.476169], [39.01847, -76.990263], [37.460728, -77.65245], [37.560636, -121.908875], [33.809727, -117.878977], [35.23537, -80.94312], [34.07887, -118.21998], [46.69883, -112.041801], [37.28557, -121.868092], [41.539104, -73.08319499999998], [45.306748, -93.608654], [25.94404, -80.35675], [33.84672, -118.223739], [34.046147, -118.269339], [40.983706, -111.898257], [34.055797, -118.451786], [34.271128000000004, -118.47222], [32.958314, -80.545895], [37.49998, -121.9284], [28.147368, -81.444008], [39.422988, -77.494504], [40.845536, -73.932786], [35.891892, -119.250404], [37.779552, -121.314514], [33.970546, -118.375232], [28.196572, -82.546538], [41.237059, -111.916795], [33.655039, -84.010487], [35.794173, -78.48751999999998], [37.658783, -113.080934], [29.99103400000001, -90.061937], [34.347021000000005, -117.476956], [37.44797, -121.92153], [33.77890900000001, -117.876878], [39.006023, -76.898147], [40.86265, -73.97479], [41.658471, -86.90879699999998], [47.49815, -122.19094], [42.48623, -83.46594], [37.32328, -121.94056], [36.83106, -76.19556999999998], [26.410647, -80.089798], [39.912975, -75.571826], [33.15463, -97.06352], [41.227666, -73.716598], [36.98396, -120.085834], [36.044279, -86.65696899999998], [38.743836, -121.271036], [35.27299, -80.837], [39.12097, -94.56491], [34.89767, -118.92141], [37.29905, -121.87467], [33.85611, -118.00633], [43.153729, -77.619927], [34.06754, -117.554889], [41.122974, -76.908534], [44.86697, -93.63714], [41.71281, -87.74051999999998], [30.309229, -81.64700400000002], [29.67429000000001, -95.57293], [41.23261, -73.22298], [37.360682, -121.841821], [34.067884, -117.835997], [38.634983, -90.343712], [34.505436, -117.323559], [25.939197, -80.295275], [43.39856, -93.349746], [40.357449, -111.780896], [34.065425, -117.997922], [44.736424, -93.283206], [27.275468, -82.448666], [34.598993, -111.89972], [37.160014, -93.262779], [42.34451, -71.26303], [38.004968, -122.038364], [37.78096, -122.17324], [34.28398, -119.146689], [28.379461, -81.504868], [41.16172, -112.02603], [32.468066, -93.865712], [34.070802, -119.012414], [38.340328, -77.49256], [32.938882, -117.224116], [29.9959, -90.05914], [42.732491, -73.84984200000002], [30.499156, -91.169899], [35.89989, -78.576351], [47.12515, -122.23331], [30.493098, -91.143715], [33.983442, -118.252088], [30.390313, -91.1118], [42.350127, -88.108975], [32.78885, -96.80247], [33.462070000000004, -112.07012], [42.73355, -76.12691], [34.243162, -117.281832], [45.497452, -122.508301], [26.108923, -80.168748], [41.82958, -71.41801], [41.25242, -95.95398], [34.030965, -118.390282], [38.631033, -121.21093799999998], [43.120704, -75.58363], [35.29069600000001, -80.912655], [34.9858, -92.018431], [28.321544, -82.505976], [32.44316, -110.9696], [33.974678999999995, -80.881785], [40.71466, -73.99284], [29.94668, -90.08807], [25.94749, -80.150355], [33.620645, -81.10494399999997], [33.476987, -117.673455], [27.892611, -82.81594799999998], [25.90275, -80.33691400000002], [38.47808, -121.42673], [37.551977, -122.30891], [39.941445, -75.001932], [34.165672, -119.144544], [39.958481, -75.599236], [30.433709000000004, -91.042721], [35.036386, -85.267939], [28.859516, -82.53829300000002], [35.75335, -78.64588], [33.438413, -111.964089], [43.5838, -116.26131399999998], [34.00046, -118.17511], [33.140137, -87.511096], [25.910774, -80.210011], [34.602883, -118.144359], [25.823662, -80.249388], [34.05444, -118.00435], [41.794071, -124.170402], [35.905826, -78.555778], [36.898075, -121.776548], [36.626261, -121.839205], [44.99905, -93.08964], [47.6113, -122.33617], [43.08721, -77.60491999999998], [36.503888, -84.204229], [34.71993, -81.19462], [25.823478, -80.32370999999998], [40.262202, -78.851473], [35.23925900000001, -119.015525], [36.157242, -86.770043], [39.660603, -75.12656899999998], [35.036421000000004, -81.83639699999998], [37.39804, -121.91287], [25.850192, -80.241954], [37.510704, -120.879775], [43.03051, -87.9871], [38.82559000000001, -76.92461999999998], [40.77931, -73.5717], [29.86021, -95.402997], [25.602323, -80.35254300000003], [34.126661, -118.475448], [34.89038, -82.16528000000002], [37.741046, -121.581281], [38.775616, -119.915596], [45.651594, -109.257777], [36.141759, -86.71418800000002], [34.03842, -118.27401], [40.77083, -74.23640999999998], [35.207685, -85.29749100000002], [33.87631, -118.093982], [38.110801, -121.394449], [39.402154, -78.026887], [39.021194, -77.471809], [38.818634, -77.443045], [34.365320000000004, -118.55666], [40.10645, -82.9802], [42.943979, -85.676611], [43.96475, -94.67586], [27.206279, -80.33210600000002], [34.101249, -80.91427900000002], [37.58612, -113.67786], [38.663838, -121.272192], [38.151889, -120.598289], [38.678094, -121.336038], [32.67385, -96.59706], [43.060296, -83.804859], [32.464126, -80.97883900000002], [33.893173, -118.26698], [38.256535, -122.361051], [35.666631, -82.992085], [37.851558, -121.282893], [38.36592, -121.351472], [39.016124, -76.977666], [25.963083, -80.15353499999998], [44.330361, -92.980016], [35.072189, -81.211454], [40.257528, -86.650522], [33.843702, -118.17652], [40.105353, -80.497946], [34.048572, -117.396329], [34.055501, -117.546525], [38.618541, -121.514078], [42.23707, -88.14862], [30.78140800000001, -85.51733399999998], [32.677906, -117.083096], [45.3623, -118.00273], [41.77106, -72.678347], [40.666505, -73.801721], [32.76718, -97.31133], [42.387103, -73.64335], [33.253346, -117.153987], [33.978634, -118.07522], [39.79712, -104.987297], [33.889621000000005, -118.192954], [36.579317, -121.727052], [33.940728, -117.261538], [42.19338, -120.409657], [39.886101, -75.104253], [29.49351, -98.5471], [40.403117, -77.010549], [38.61962, -121.80287], [32.817377, -96.8681], [29.93913, -90.07557], [35.107402, -85.34834599999998], [46.60892800000001, -93.464888], [32.817054, -96.835437], [34.128019, -117.962577], [26.882893, -80.131132], [37.467266, -77.329341]],\n",
              "                {&quot;blur&quot;: 15, &quot;maxZoom&quot;: 18, &quot;minOpacity&quot;: 0.5, &quot;radius&quot;: 25}\n",
              "            ).addTo(map_2dfccf423cde430ff1e561d78872c0ff);\n",
              "        \n",
              "&lt;/script&gt;\" style=\"position:absolute;width:100%;height:100%;left:0;top:0;border:none !important;\" allowfullscreen webkitallowfullscreen mozallowfullscreen></iframe></div></div>"
            ]
          },
          "metadata": {},
          "execution_count": 147
        }
      ]
    },
    {
      "cell_type": "code",
      "source": [],
      "metadata": {
        "id": "YjRm60zFw-bv"
      },
      "execution_count": null,
      "outputs": []
    },
    {
      "cell_type": "code",
      "source": [],
      "metadata": {
        "id": "YE36qf5Cw-eF"
      },
      "execution_count": null,
      "outputs": []
    },
    {
      "cell_type": "code",
      "source": [],
      "metadata": {
        "id": "CJWfuy_dw-hi"
      },
      "execution_count": null,
      "outputs": []
    },
    {
      "cell_type": "code",
      "source": [],
      "metadata": {
        "id": "Wbe_QvPJw-m4"
      },
      "execution_count": null,
      "outputs": []
    },
    {
      "cell_type": "code",
      "source": [
        "high_accident_cities = cities_by_accident[cities_by_accident > 1000]\n",
        "low_accident_cities = cities_by_accident[cities_by_accident < 1000]"
      ],
      "metadata": {
        "id": "TCmg50mhT0I6"
      },
      "execution_count": null,
      "outputs": []
    },
    {
      "cell_type": "code",
      "source": [
        "len(high_accident_cities) / len(cities)"
      ],
      "metadata": {
        "colab": {
          "base_uri": "https://localhost:8080/"
        },
        "id": "q9R4nYpTT0Lc",
        "outputId": "0f8b94a7-7401-4503-d474-67dff311d07f"
      },
      "execution_count": null,
      "outputs": [
        {
          "output_type": "execute_result",
          "data": {
            "text/plain": [
              "0.04228727957541517"
            ]
          },
          "metadata": {},
          "execution_count": 61
        }
      ]
    },
    {
      "cell_type": "code",
      "source": [
        "sns.distplot(high_accident_cities)"
      ],
      "metadata": {
        "colab": {
          "base_uri": "https://localhost:8080/",
          "height": 351
        },
        "id": "HoASOMkiT0PB",
        "outputId": "5a6718d6-002e-4591-92d1-655b24dfd723"
      },
      "execution_count": null,
      "outputs": [
        {
          "output_type": "stream",
          "name": "stderr",
          "text": [
            "/usr/local/lib/python3.7/dist-packages/seaborn/distributions.py:2619: FutureWarning: `distplot` is a deprecated function and will be removed in a future version. Please adapt your code to use either `displot` (a figure-level function with similar flexibility) or `histplot` (an axes-level function for histograms).\n",
            "  warnings.warn(msg, FutureWarning)\n"
          ]
        },
        {
          "output_type": "execute_result",
          "data": {
            "text/plain": [
              "<matplotlib.axes._subplots.AxesSubplot at 0x7fed9314ee90>"
            ]
          },
          "metadata": {},
          "execution_count": 62
        },
        {
          "output_type": "display_data",
          "data": {
            "text/plain": [
              "<Figure size 432x288 with 1 Axes>"
            ],
            "image/png": "[encoded data removed]"
          },
          "metadata": {}
        }
      ]
    },
    {
      "cell_type": "code",
      "source": [
        "sns.distplot(low_accident_cities)"
      ],
      "metadata": {
        "colab": {
          "base_uri": "https://localhost:8080/",
          "height": 351
        },
        "id": "B4WYSkiMT0Tm",
        "outputId": "55ebcee0-3f3a-4668-e54e-cfed53330057"
      },
      "execution_count": null,
      "outputs": [
        {
          "output_type": "stream",
          "name": "stderr",
          "text": [
            "/usr/local/lib/python3.7/dist-packages/seaborn/distributions.py:2619: FutureWarning: `distplot` is a deprecated function and will be removed in a future version. Please adapt your code to use either `displot` (a figure-level function with similar flexibility) or `histplot` (an axes-level function for histograms).\n",
            "  warnings.warn(msg, FutureWarning)\n"
          ]
        },
        {
          "output_type": "execute_result",
          "data": {
            "text/plain": [
              "<matplotlib.axes._subplots.AxesSubplot at 0x7fed92e73410>"
            ]
          },
          "metadata": {},
          "execution_count": 63
        },
        {
          "output_type": "display_data",
          "data": {
            "text/plain": [
              "<Figure size 432x288 with 1 Axes>"
            ],
            "image/png": "[encoded data removed]"
          },
          "metadata": {}
        }
      ]
    },
    {
      "cell_type": "code",
      "source": [],
      "metadata": {
        "id": "Z0k4aSA8T0WJ"
      },
      "execution_count": null,
      "outputs": []
    },
    {
      "cell_type": "markdown",
      "source": [
        "# Question and Answers\n",
        "\n",
        "1. Are there more accidents on colder or warmer areas?\n",
        "2. Which states has the highest no. of accidents?(top 5) How about per capita?\n",
        "3. Does New York show up in the data? If yes, why the accident count is lower even with the most populus city in US?\n",
        "4. Among the top 100 cities in no. of accidents, which states do they belong most frequently\n",
        "5. What time of the day are accidents most frequent\n",
        "6. Which days of the week have most accidents\n",
        "7. Which months have most no. of accidents\n",
        "8. Trends of accidents every year(increasing/decreasing)\n",
        "9. When is accidents per unit of traffic the highest"
      ],
      "metadata": {
        "id": "bldHhw17GfQg"
      }
    },
    {
      "cell_type": "markdown",
      "source": [
        "# Summary and conclusion\n",
        "\n",
        "Insights \n",
        "- No data for NYC\n",
        "- The no. of accidents per city decreases exponentially\n",
        "- Less than 4.2% cities have more than 1000 yearly accidents\n",
        "- Over 1100 cities have reported just 1 accident(needs to investigate)\n",
        "- Data missing for month of july and august of the year 2020"
      ],
      "metadata": {
        "id": "aSilyi6iCD9t"
      }
    },
    {
      "cell_type": "code",
      "execution_count": 148,
      "metadata": {
        "id": "SSNQUkTIA5xL"
      },
      "outputs": [],
      "source": [
        "import jovian"
      ]
    },
    {
      "cell_type": "code",
      "source": [
        "jovian.commit()"
      ],
      "metadata": {
        "colab": {
          "base_uri": "https://localhost:8080/",
          "height": 88
        },
        "id": "iljkfm5a7BIl",
        "outputId": "f24c2fcf-8a75-4980-a990-f6ebcfc634b7"
      },
      "execution_count": 150,
      "outputs": [
        {
          "output_type": "stream",
          "name": "stdout",
          "text": [
            "[jovian] Detected Colab notebook...\u001b[0m\n",
            "[jovian] Uploading colab notebook to Jovian...\u001b[0m\n",
            "Committed successfully! https://jovian.ai/chandlalit53/us-accidents-analysis\n"
          ]
        },
        {
          "output_type": "execute_result",
          "data": {
            "text/plain": [
              "'https://jovian.ai/chandlalit53/us-accidents-analysis'"
            ],
            "application/vnd.google.colaboratory.intrinsic+json": {
              "type": "string"
            }
          },
          "metadata": {},
          "execution_count": 150
        }
      ]
    }
  ],
  "metadata": {
    "kernelspec": {
      "display_name": "Python 3",
      "language": "python",
      "name": "python3"
    },
    "language_info": {
      "codemirror_mode": {
        "name": "ipython",
        "version": 3
      },
      "file_extension": ".py",
      "mimetype": "text/x-python",
      "name": "python",
      "nbconvert_exporter": "python",
      "pygments_lexer": "ipython3",
      "version": "3.7.6"
    },
    "colab": {
      "provenance": []
    }
  },
  "nbformat": 4,
  "nbformat_minor": 0
}